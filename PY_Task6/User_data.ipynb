{
 "cells": [
  {
   "cell_type": "code",
   "execution_count": 1,
   "metadata": {},
   "outputs": [
    {
     "name": "stdout",
     "output_type": "stream",
     "text": [
      "{'user_id': 1, 'user_name': 'user1', 'user_age': 25, 'age_category': 'Teenage'}\n",
      "{'user_id': 2, 'user_name': 'user2', 'user_age': 33, 'age_category': 'Adult'}\n",
      "{'user_id': 3, 'user_name': 'user3', 'user_age': 65, 'age_category': 'Elder'}\n",
      "{'user_id': 4, 'user_name': 'user3', 'user_age': 76, 'age_category': 'Super Senior'}\n"
     ]
    }
   ],
   "source": [
    "def user_data(user_id, user_name, user_age):\n",
    "    if user_age>70:\n",
    "        age_category=\"Super Senior\"\n",
    "    elif user_age>55:\n",
    "        age_category= \"Elder\"\n",
    "    elif user_age>30:\n",
    "        age_category=\"Adult\"  \n",
    "    else: age_category =\"Teenage\"   \n",
    "    return{\"user_id\":user_id, \"user_name\": user_name, \"user_age\": user_age, \"age_category\": age_category}\n",
    "print(user_data(1, \"user1\", 25))  \n",
    "print(user_data(2, \"user2\" , 33))\n",
    "print(user_data(3, \"user3\" , 65))\n",
    "print(user_data(4, \"user3\" , 76))"
   ]
  }
 ],
 "metadata": {
  "kernelspec": {
   "display_name": "Python 3",
   "language": "python",
   "name": "python3"
  },
  "language_info": {
   "codemirror_mode": {
    "name": "ipython",
    "version": 3
   },
   "file_extension": ".py",
   "mimetype": "text/x-python",
   "name": "python",
   "nbconvert_exporter": "python",
   "pygments_lexer": "ipython3",
   "version": "3.12.5"
  }
 },
 "nbformat": 4,
 "nbformat_minor": 2
}
