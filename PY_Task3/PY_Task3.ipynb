{
 "cells": [
  {
   "cell_type": "markdown",
   "id": "644cc267-c831-4168-9164-ae99d7c3f7eb",
   "metadata": {},
   "source": [
    "# give example of list min 20 of diffrent data types in Python\n",
    "* https://www.geeksforgeeks.org/list-methods-python/"
   ]
  },
  {
   "cell_type": "markdown",
   "id": "e5614c2d-785f-483f-bf7b-dcfd7e3ae263",
   "metadata": {},
   "source": [
    "### List Methods in Python"
   ]
  },
  {
   "cell_type": "markdown",
   "id": "795288ab-e27b-4ea8-9c1f-d0038c13b7ef",
   "metadata": {},
   "source": [
    "### 1). append() : Used for adding elements to the end of the List."
   ]
  },
  {
   "cell_type": "code",
   "execution_count": 17,
   "id": "bafbe6f3-aa5a-4923-8b75-e54801488aa8",
   "metadata": {},
   "outputs": [
    {
     "name": "stdout",
     "output_type": "stream",
     "text": [
      "[2, 5, 6, 7, 8]\n"
     ]
    }
   ],
   "source": [
    "\n",
    "list=[2,5,6,7] \n",
    "list.append(8) \n",
    "print(list)"
   ]
  },
  {
   "cell_type": "markdown",
   "id": "a634c681-3662-4c4c-bb6f-f3190ffc9fde",
   "metadata": {},
   "source": [
    "### 2). copy() : It returns a shallow copy of a list"
   ]
  },
  {
   "cell_type": "code",
   "execution_count": 20,
   "id": "d8f934b1-1177-46f1-b9e1-36f560c034c1",
   "metadata": {},
   "outputs": [
    {
     "name": "stdout",
     "output_type": "stream",
     "text": [
      "li2 ID:  2346882007296 Value:  [1, 2, [3, 5], 4]\n",
      "li3 ID:  2346882014080 Value:  [1, 2, [3, 5], 4]\n"
     ]
    }
   ],
   "source": [
    "import copy\n",
    "li1 = [1, 2, [3, 5], 4]\n",
    "li2 = copy.copy(li1)\n",
    "print(\"li2 ID: \", id(li2), \"Value: \", li2)\n",
    "li3 = copy.deepcopy(li1)\n",
    "print(\"li3 ID: \", id(li3), \"Value: \", li3)"
   ]
  },
  {
   "cell_type": "markdown",
   "id": "ce9429de-c3e6-4ec4-b270-cb8ac8206605",
   "metadata": {},
   "source": [
    "### 3). clear() : This method is used for removing all items from the list. "
   ]
  },
  {
   "cell_type": "code",
   "execution_count": 25,
   "id": "d7dd85ce-f825-4e70-8e34-faf03f8d8c40",
   "metadata": {},
   "outputs": [
    {
     "name": "stdout",
     "output_type": "stream",
     "text": [
      "[]\n"
     ]
    }
   ],
   "source": [
    "lis = [1, 2, 3]\n",
    "lis.clear()\n",
    "print(lis)"
   ]
  },
  {
   "cell_type": "markdown",
   "id": "324bfd3c-322b-4001-b681-31e2c9a8eb66",
   "metadata": {},
   "source": [
    "### 4). count() : These methods count the elements."
   ]
  },
  {
   "cell_type": "code",
   "execution_count": 28,
   "id": "9d219b2d-94f8-4bf7-be6a-88a9dd86e05b",
   "metadata": {},
   "outputs": [
    {
     "name": "stdout",
     "output_type": "stream",
     "text": [
      "1\n"
     ]
    }
   ],
   "source": [
    "#create a list\n",
    "fruits = [\"Apple\", \"Mango\", \"Banana\", \"Cherry\" , \"Papaya\"]\n",
    "# printing count using count() function\n",
    "print(fruits.count(\"Apple\"))"
   ]
  },
  {
   "cell_type": "markdown",
   "id": "c3de1b45-2b1b-4542-9317-c18ecacc00e8",
   "metadata": {},
   "source": [
    "### 5). extend(): Adds each element of an iterable to the end of the List"
   ]
  },
  {
   "cell_type": "code",
   "execution_count": 33,
   "id": "f694f6f9-90a2-433d-8f64-468ee2df587e",
   "metadata": {},
   "outputs": [
    {
     "name": "stdout",
     "output_type": "stream",
     "text": [
      "['Audi', 'BMW', 'Jaguar', 'Maruti', 'Tata']\n"
     ]
    }
   ],
   "source": [
    "\n",
    "\n",
    "cars = [\"Audi\",\"BMW\",\"Jaguar\"]\n",
    "other_cars = [\"Maruti\", \"Tata\"]\n",
    "cars.extend(other_cars)\n",
    "print(cars)"
   ]
  },
  {
   "cell_type": "markdown",
   "id": "32d5ae0a-1986-431b-9e36-dd2dc58462ea",
   "metadata": {},
   "source": [
    "### 6). index() : Returns the lowest index where the element appears. "
   ]
  },
  {
   "cell_type": "code",
   "execution_count": 35,
   "id": "99b4e344-0d0b-4f57-952a-92aac42d1395",
   "metadata": {},
   "outputs": [
    {
     "name": "stdout",
     "output_type": "stream",
     "text": [
      "1\n"
     ]
    }
   ],
   "source": [
    "# list of animals\n",
    "Animals= [\"cat\", \"dog\", \"tiger\"]\n",
    "# searching positiion of dog\n",
    "print(Animals.index(\"dog\"))"
   ]
  },
  {
   "cell_type": "markdown",
   "id": "7e99d3ca-ce24-4c9f-906a-391156b50d8d",
   "metadata": {},
   "source": [
    "### 7). insert(): Inserts a given element at a given index in a list. "
   ]
  },
  {
   "cell_type": "code",
   "execution_count": 40,
   "id": "b5e53ceb-15c8-4e3f-a211-cb2b0d31dac5",
   "metadata": {},
   "outputs": [
    {
     "name": "stdout",
     "output_type": "stream",
     "text": [
      "['banana', 'apple', 'cherry', 'grape']\n"
     ]
    }
   ],
   "source": [
    "# creating a list\n",
    "fruit = [\"banana\",\"cherry\",\"grape\"]\n",
    "fruit.insert(1,\"apple\")\n",
    "print(fruit)"
   ]
  },
  {
   "cell_type": "markdown",
   "id": "d5c555c8-9222-422c-8d19-4bcf46eda228",
   "metadata": {},
   "source": [
    "### 8). pop(): Removes and returns the last value from the List or the given index value."
   ]
  },
  {
   "cell_type": "code",
   "execution_count": 42,
   "id": "b9728c80-b255-4753-8231-23b5008ed67c",
   "metadata": {},
   "outputs": [
    {
     "name": "stdout",
     "output_type": "stream",
     "text": [
      "['apple', 'mango']\n"
     ]
    }
   ],
   "source": [
    "fruits = [\"apple\", \"mango\", \"cherry\"]\n",
    "fruits.pop()\n",
    "print(fruits)"
   ]
  },
  {
   "cell_type": "markdown",
   "id": "25b50f78-7acf-4d00-951b-9f414e2accac",
   "metadata": {},
   "source": [
    "### 9). remove(): Removes a given object from the List. "
   ]
  },
  {
   "cell_type": "markdown",
   "id": "c565c1c0-be6e-42a4-b3dc-ae625bd0d34a",
   "metadata": {},
   "source": [
    "lis = ['a', 'b', 'c']\n",
    "lis.remove(\"b\")\n",
    "print(lis)"
   ]
  },
  {
   "cell_type": "markdown",
   "id": "6ca7693a-5e5f-43e8-bd46-e24af8c6f26c",
   "metadata": {},
   "source": [
    "### 10). reverse() : Reverses objects of the List in place."
   ]
  },
  {
   "cell_type": "code",
   "execution_count": 49,
   "id": "ed3bc6ab-f244-423e-a029-a73d07a3386d",
   "metadata": {},
   "outputs": [
    {
     "name": "stdout",
     "output_type": "stream",
     "text": [
      "[6, 2, 1, 4, 3, 2, 1]\n",
      "['a', 'a', 'd', 'c', 'b', 'a']\n"
     ]
    }
   ],
   "source": [
    "# Python3 program to demonstrate the \n",
    "# use of reverse method \n",
    "  \n",
    "# a list of numbers\n",
    "list1 = [1, 2, 3, 4, 1, 2, 6] \n",
    "list1.reverse() \n",
    "print(list1) \n",
    " \n",
    "# a list of characters\n",
    "list2 = ['a', 'b', 'c', 'd', 'a', 'a'] \n",
    "list2.reverse() \n",
    "print(list2)"
   ]
  },
  {
   "cell_type": "markdown",
   "id": "c36e5a8a-a531-4062-865a-c3487fb3f124",
   "metadata": {},
   "source": [
    "### 11). sort() : Sort a List in ascending, descending, or user-defined order"
   ]
  },
  {
   "cell_type": "code",
   "execution_count": 52,
   "id": "3a12184b-2c75-499b-a3e4-4239808246b1",
   "metadata": {},
   "outputs": [
    {
     "name": "stdout",
     "output_type": "stream",
     "text": [
      "['a', 'b', 'c', 'd', 'e']\n",
      "[1, 2, 3, 5, 6, 8]\n"
     ]
    }
   ],
   "source": [
    "alphabets = ['a','e','d','c','b']\n",
    "alphabets.sort()\n",
    "print(alphabets)\n",
    "\n",
    "random_numbers = [2,5,6,1,8,3]\n",
    "random_numbers.sort()\n",
    "print(random_numbers)"
   ]
  },
  {
   "cell_type": "markdown",
   "id": "7f2da632-ae17-497b-8ff1-2f483e1cd2a0",
   "metadata": {},
   "source": [
    "### 12).min() : Calculates the minimum of all the elements of the List"
   ]
  },
  {
   "cell_type": "code",
   "execution_count": 55,
   "id": "8983e6d3-8543-4f3f-92aa-6cb00181969f",
   "metadata": {},
   "outputs": [
    {
     "name": "stdout",
     "output_type": "stream",
     "text": [
      "21\n"
     ]
    }
   ],
   "source": [
    "numbers = [23,25,65,21,98]\n",
    "print(min(numbers))"
   ]
  },
  {
   "cell_type": "markdown",
   "id": "d8158d98-9d04-4071-ad22-22e62690231b",
   "metadata": {},
   "source": [
    "### 13). max() : Calculates the maximum of all the elements of the List"
   ]
  },
  {
   "cell_type": "code",
   "execution_count": 58,
   "id": "766d243c-735d-46d7-af3f-34e23c2e8710",
   "metadata": {},
   "outputs": [
    {
     "name": "stdout",
     "output_type": "stream",
     "text": [
      "8\n"
     ]
    }
   ],
   "source": [
    "var1 = 4\n",
    "var2 = 8\n",
    "var3 = 2\n",
    " \n",
    "max_val = max(var1, var2, var3)\n",
    "print(max_val)"
   ]
  },
  {
   "cell_type": "markdown",
   "id": "a770720a-8a16-464a-92bf-64e65e785597",
   "metadata": {},
   "source": [
    "### 14)."
   ]
  },
  {
   "cell_type": "code",
   "execution_count": 61,
   "id": "9f275fb3-1f18-4181-b904-cf4e381ce97e",
   "metadata": {},
   "outputs": [
    {
     "name": "stdout",
     "output_type": "stream",
     "text": [
      "The length of list is : 5\n",
      "The minimum element of list is : 1\n",
      "The maximum element of list is : 5\n"
     ]
    }
   ],
   "source": [
    "# Python code to demonstrate the working of\n",
    "# len(), min() and max()\n",
    "# initializing list 1\n",
    "lis = [2, 1, 3, 5, 4]\n",
    " \n",
    "# using len() to print length of list\n",
    "print (\"The length of list is : \", end=\"\")\n",
    "print (len(lis))\n",
    " \n",
    "# using min() to print minimum element of list\n",
    "print (\"The minimum element of list is : \", end=\"\")\n",
    "print (min(lis))\n",
    " \n",
    "# using max() to print maximum element of list\n",
    "print (\"The maximum element of list is : \", end=\"\")\n",
    "print (max(lis))"
   ]
  },
  {
   "cell_type": "markdown",
   "id": "4d0aee5f-0c0f-432f-90a3-22a2d4ae1b44",
   "metadata": {},
   "source": [
    "### 14)."
   ]
  },
  {
   "cell_type": "code",
   "execution_count": 65,
   "id": "558f23a5-b976-4157-8446-d1edde259597",
   "metadata": {},
   "outputs": [
    {
     "name": "stdout",
     "output_type": "stream",
     "text": [
      "The first occurrence of 3 after 3rd position is : 5\n",
      "The number of occurrences of 3 is : 2\n"
     ]
    }
   ],
   "source": [
    "# Python code to demonstrate the working of\n",
    "# index() and count()\n",
    "# initializing list 1\n",
    "lis = [2, 1, 3, 5, 4, 3]\n",
    " \n",
    "# using index() to print first occurrence of 3\n",
    "# prints 5\n",
    "print (\"The first occurrence of 3 after 3rd position is : \", end=\"\")\n",
    "print (lis.index(3, 3, 6))\n",
    " \n",
    "# using count() to count number of occurrence of 3\n",
    "print (\"The number of occurrences of 3 is : \", end=\"\")\n",
    "print (lis.count(3))"
   ]
  },
  {
   "cell_type": "markdown",
   "id": "721c0b7d-c743-44f5-9f89-2022fa8f7944",
   "metadata": {},
   "source": [
    "### 15). 1. del[a : b] :- This method deletes all the elements in range starting from index ‘a’ till ‘b’ mentioned in arguments.\r\n",
    "\r\n",
    "2. pop() :- This method deletes the element at the position mentioned in its arguments. "
   ]
  },
  {
   "cell_type": "code",
   "execution_count": 71,
   "id": "428cfba0-c87b-4b04-bfd1-552470211015",
   "metadata": {},
   "outputs": [],
   "source": [
    "# Python code to demonstrate the working of \n",
    "# del and pop() \n",
    "  \n",
    "# initializing list  \n",
    "lis = [2, 1, 3, 5, 4, 3, 8] "
   ]
  },
  {
   "cell_type": "code",
   "execution_count": 74,
   "id": "0ebd7462-7d60-4767-be40-d3e25671db98",
   "metadata": {},
   "outputs": [],
   "source": [
    "# using del to delete elements from pos. 2 to 5 \n",
    "# deletes 3,5,4 \n",
    "del lis[2 : 5] "
   ]
  },
  {
   "cell_type": "code",
   "execution_count": 76,
   "id": "8f7266f8-78f2-4a5f-8779-c7e819e62166",
   "metadata": {},
   "outputs": [
    {
     "name": "stdout",
     "output_type": "stream",
     "text": [
      "List elements after deleting are : 2 1 3 8 \n"
     ]
    }
   ],
   "source": [
    "# displaying list after deleting  \n",
    "print (\"List elements after deleting are : \",end=\"\") \n",
    "for i in range(0, len(lis)): \n",
    "    print(lis[i], end=\" \") \n",
    "      \n",
    "print(\"\\r\") "
   ]
  },
  {
   "cell_type": "code",
   "execution_count": 78,
   "id": "a8df70a0-26bb-4f50-bc0e-6553bc3735ea",
   "metadata": {},
   "outputs": [
    {
     "data": {
      "text/plain": [
       "3"
      ]
     },
     "execution_count": 78,
     "metadata": {},
     "output_type": "execute_result"
    }
   ],
   "source": [
    "# using pop() to delete element at pos 2 \n",
    "# deletes 3 \n",
    "lis.pop(2) "
   ]
  },
  {
   "cell_type": "code",
   "execution_count": 80,
   "id": "d9ad3340-70e4-4d09-8654-752a07ae82d5",
   "metadata": {},
   "outputs": [
    {
     "name": "stdout",
     "output_type": "stream",
     "text": [
      "List elements after popping are : 2 1 8 "
     ]
    }
   ],
   "source": [
    "# displaying list after popping   \n",
    "print (\"List elements after popping are : \", end=\"\") \n",
    "for i in range(0, len(lis)): \n",
    "    print(lis[i], end=\" \") "
   ]
  },
  {
   "cell_type": "markdown",
   "id": "cff2b8c7-5485-44a9-bacb-fa87ab1634c1",
   "metadata": {},
   "source": [
    "### 16). 3. insert(a, x) :- This function inserts an element at the position mentioned in its arguments. It takes 2 arguments, position and element to be added at respective position.\n",
    "\n",
    "4. remove() :- This function is used to delete the first occurrence of number mentioned in its arguments."
   ]
  },
  {
   "cell_type": "code",
   "execution_count": 84,
   "id": "cbe131ca-101c-41db-8136-1cb8baf1e090",
   "metadata": {},
   "outputs": [],
   "source": [
    "# Python code to demonstrate the working of \n",
    "# insert() and remove() \n",
    "  \n",
    "# initializing list  \n",
    "lis = [2, 1, 3, 5, 3, 8] "
   ]
  },
  {
   "cell_type": "code",
   "execution_count": 86,
   "id": "29f62dff-0fa8-4db5-be92-0de37bf6a811",
   "metadata": {},
   "outputs": [],
   "source": [
    "# using insert() to insert 4 at 3rd pos \n",
    "lis.insert(3, 4) "
   ]
  },
  {
   "cell_type": "code",
   "execution_count": 88,
   "id": "c09c0796-ed96-4cc0-b72f-ba5093fe36fe",
   "metadata": {},
   "outputs": [
    {
     "name": "stdout",
     "output_type": "stream",
     "text": [
      "List elements after inserting 4 are : 2 1 3 4 5 3 8 \n"
     ]
    }
   ],
   "source": [
    "# displaying list after inserting \n",
    "print(\"List elements after inserting 4 are : \", end=\"\") \n",
    "for i in range(0, len(lis)): \n",
    "    print(lis[i], end=\" \") \n",
    "      \n",
    "print(\"\\r\") "
   ]
  },
  {
   "cell_type": "code",
   "execution_count": 90,
   "id": "d16d58ac-027c-435a-8170-353f73f11798",
   "metadata": {},
   "outputs": [],
   "source": [
    "# using remove() to remove first occurrence of 3 \n",
    "# removes 3 at pos 2 \n",
    "lis.remove(3)"
   ]
  },
  {
   "cell_type": "code",
   "execution_count": 92,
   "id": "984cd66e-3e19-453f-9745-a88519b7e8e8",
   "metadata": {},
   "outputs": [
    {
     "name": "stdout",
     "output_type": "stream",
     "text": [
      "List elements after removing are : 2 1 4 5 3 8 "
     ]
    }
   ],
   "source": [
    "# displaying list after removing  \n",
    "print (\"List elements after removing are : \", end=\"\") \n",
    "for i in range(0, len(lis)): \n",
    "    print(lis[i], end=\" \") "
   ]
  },
  {
   "cell_type": "markdown",
   "id": "ff76ee36-31d4-4405-ab5f-46faa61ea12a",
   "metadata": {},
   "source": [
    "### 17). 5. sort() :- This function sorts the list in increasing order.\n",
    "\n",
    "6. reverse() :- This function reverses the elements of list."
   ]
  },
  {
   "cell_type": "code",
   "execution_count": 95,
   "id": "5bdf0668-bf59-43e8-b0d8-2218e3bbe2cb",
   "metadata": {},
   "outputs": [],
   "source": [
    "# Python code to demonstrate the working of \n",
    "# sort() and reverse() \n",
    "  \n",
    "# initializing list  \n",
    "lis = [2, 1, 3, 5, 3, 8] "
   ]
  },
  {
   "cell_type": "code",
   "execution_count": 97,
   "id": "e08793d4-1fa3-485f-8041-1cf9664dfa0b",
   "metadata": {},
   "outputs": [],
   "source": [
    "# using sort() to sort the list \n",
    "lis.sort() "
   ]
  },
  {
   "cell_type": "code",
   "execution_count": 99,
   "id": "a32ea05a-24aa-4378-bb51-b22161e7ce75",
   "metadata": {},
   "outputs": [
    {
     "name": "stdout",
     "output_type": "stream",
     "text": [
      "List elements after sorting are : 1 2 3 3 5 8 \n"
     ]
    }
   ],
   "source": [
    "# displaying list after sorting \n",
    "print (\"List elements after sorting are : \", end=\"\") \n",
    "for i in range(0, len(lis)): \n",
    "    print(lis[i], end=\" \") \n",
    "      \n",
    "print(\"\\r\") \n",
    "  "
   ]
  },
  {
   "cell_type": "code",
   "execution_count": 100,
   "id": "b931b141-8071-4b1d-aeeb-f6c9c82be2b4",
   "metadata": {},
   "outputs": [],
   "source": [
    "# using reverse() to reverse the list \n",
    "lis.reverse()"
   ]
  },
  {
   "cell_type": "code",
   "execution_count": 101,
   "id": "210a9204-bce4-437d-bb26-922098d7459f",
   "metadata": {},
   "outputs": [
    {
     "name": "stdout",
     "output_type": "stream",
     "text": [
      "List elements after reversing are : 8 5 3 3 2 1 "
     ]
    }
   ],
   "source": [
    "# displaying list after reversing \n",
    "print (\"List elements after reversing are : \", end=\"\") \n",
    "for i in range(0, len(lis)): \n",
    "    print(lis[i], end=\" \") "
   ]
  },
  {
   "cell_type": "markdown",
   "id": "58118e2b-7bdd-4ffe-870b-6380e2852130",
   "metadata": {},
   "source": [
    "### 18). 7. extend(b) :- This function is used to extend the list with the elements present in another list. This function takes another list as its argument.\n",
    "\n",
    "8. clear() :- This function is used to erase all the elements of list. After this operation, list becomes empty."
   ]
  },
  {
   "cell_type": "code",
   "execution_count": 106,
   "id": "2e2777bb-d65d-4a92-8c85-74d1054cb4a8",
   "metadata": {},
   "outputs": [],
   "source": [
    "# Python code to demonstrate the working of \n",
    "# extend() and clear() \n",
    "  \n",
    "# initializing list 1 \n",
    "lis1 = [2, 1, 3, 5] \n",
    "  \n",
    "# initializing list 1 \n",
    "lis2 = [6, 4, 3] \n",
    "  "
   ]
  },
  {
   "cell_type": "code",
   "execution_count": 108,
   "id": "2e6a8cef-073d-4e50-a036-2b99643ed149",
   "metadata": {},
   "outputs": [],
   "source": [
    "# using extend() to add elements of lis2 in lis1 \n",
    "lis1.extend(lis2) "
   ]
  },
  {
   "cell_type": "code",
   "execution_count": 110,
   "id": "c3bd4f05-cee2-4129-ab60-a4a6ee30e0f1",
   "metadata": {},
   "outputs": [
    {
     "name": "stdout",
     "output_type": "stream",
     "text": [
      "List elements after extending are : 2 1 3 5 6 4 3 \n"
     ]
    }
   ],
   "source": [
    "# displaying list after sorting \n",
    "print (\"List elements after extending are : \", end=\"\") \n",
    "for i in range(0, len(lis1)): \n",
    "    print(lis1[i], end=\" \") \n",
    "      \n",
    "print (\"\\r\")"
   ]
  },
  {
   "cell_type": "code",
   "execution_count": 112,
   "id": "0ba91041-1357-413e-b048-5673f36cfbf9",
   "metadata": {},
   "outputs": [],
   "source": [
    "# using clear() to delete all lis1 contents \n",
    "lis1.clear()"
   ]
  },
  {
   "cell_type": "code",
   "execution_count": 114,
   "id": "acafae49-5d1c-476b-a825-6b432c0639c6",
   "metadata": {},
   "outputs": [
    {
     "name": "stdout",
     "output_type": "stream",
     "text": [
      "List elements after clearing are : "
     ]
    }
   ],
   "source": [
    "# displaying list after clearing \n",
    "print (\"List elements after clearing are : \", end=\"\") \n",
    "for i in range(0, len(lis1)): \n",
    "    print(lis1[i], end=\" \") "
   ]
  },
  {
   "cell_type": "markdown",
   "id": "ea1b09e0-57b2-40c9-96ee-562a5c12873f",
   "metadata": {},
   "source": [
    "### 19). 1. strip():- This method is used to delete all the leading and trailing characters mentioned in its argument.\r\n",
    "2. lstrip():- This method is used to delete all the leading characters mentioned in its argument.\r\n",
    "3. rstrip():- This method is used to delete all the trailing characters mentioned in its argument."
   ]
  },
  {
   "cell_type": "code",
   "execution_count": 117,
   "id": "5fab0a5d-7e38-45f7-baf6-f023cf92dac9",
   "metadata": {},
   "outputs": [
    {
     "name": "stdout",
     "output_type": "stream",
     "text": [
      " String after stripping all '-' is : geeksforgeeks\n",
      " String after stripping all leading '-' is : geeksforgeeks---\n",
      " String after stripping all trailing '-' is : ---geeksforgeeks\n"
     ]
    }
   ],
   "source": [
    "# Python code to demonstrate working of  \n",
    "# strip(), lstrip() and rstrip() \n",
    "str = \"---geeksforgeeks---\"\n",
    "  \n",
    "# using strip() to delete all '-' \n",
    "print ( \" String after stripping all '-' is : \", end=\"\") \n",
    "print ( str.strip('-') ) \n",
    "  \n",
    "# using lstrip() to delete all trailing '-' \n",
    "print ( \" String after stripping all leading '-' is : \", end=\"\") \n",
    "print ( str.lstrip('-') ) \n",
    "  \n",
    "# using rstrip() to delete all leading '-' \n",
    "print ( \" String after stripping all trailing '-' is : \", end=\"\") \n",
    "print ( str.rstrip('-') ) "
   ]
  },
  {
   "cell_type": "markdown",
   "id": "6f044536-39a4-45fe-b3c6-4b695e9429dc",
   "metadata": {},
   "source": [
    "### 20). 4. min(“string”):- This function returns the minimum value alphabet from the string.\n",
    "5. max(“string”) :- This function returns the maximum value alphabet from string."
   ]
  },
  {
   "cell_type": "code",
   "execution_count": 121,
   "id": "ba1c5628-5994-4b66-a519-4b456c054ef5",
   "metadata": {},
   "outputs": [
    {
     "name": "stdout",
     "output_type": "stream",
     "text": [
      "The minimum value character is : e\n",
      "The maximum value character is : s\n"
     ]
    }
   ],
   "source": [
    "# Python code to demonstrate working of  \n",
    "# min() and max() \n",
    "str = \"geeksforgeeks\"\n",
    "  \n",
    "# using min() to print the smallest character \n",
    "# prints 'e' \n",
    "print (\"The minimum value character is : \" + min(str)) \n",
    "  \n",
    "# using max() to print the largest character \n",
    "# prints 's' \n",
    "print (\"The maximum value character is : \" + max(str)) "
   ]
  },
  {
   "cell_type": "markdown",
   "id": "fd1929c0-b618-4b37-8b20-a42325df5963",
   "metadata": {},
   "source": [
    "### 21). In the above code, ‘g’ is replaced by a, ‘f’ is replaced by b, and ‘o’ is replaced by ‘c’ in the string using the translate function.\r\n",
    "8.replace():- This function is used to replace the substring with a new substring in the string. This function has 3 arguments. The string to replace, new string which would replace and max value denoting the limit to replace action ( by default unlimited ). "
   ]
  },
  {
   "cell_type": "code",
   "execution_count": 143,
   "id": "f511883f-6d8f-476d-9298-4f8955b99519",
   "metadata": {},
   "outputs": [
    {
     "name": "stdout",
     "output_type": "stream",
     "text": [
      "The string after replacing strings is : geeksforgeeks is for nerds\n"
     ]
    }
   ],
   "source": [
    "# Python code to demonstrate working of  \n",
    "# replace() \n",
    "  \n",
    "str = \"nerdsfornerds is for nerds\"\n",
    "  \n",
    "str1 = \"nerds\"\n",
    "str2 = \"geeks\"\n",
    "  \n",
    "# using replace() to replace str2 with str1 in str \n",
    "# only changes 2 occurrences  \n",
    "print (\"The string after replacing strings is : \", end=\"\") \n",
    "print (str.replace( str1, str2, 2))  "
   ]
  },
  {
   "cell_type": "markdown",
   "id": "474c2f5a-52d9-4ba1-a1de-94c4270578e7",
   "metadata": {},
   "source": [
    "### 22). This method is contributed by Chinmoy Lenka \n",
    "9. expandtabs():- It is used to replace all tab characters(“\\t”) with whitespace or simply spaces using the given tab size, which is optional to supply. \n",
    "Syntax: string.tabsize(tabsize) \n",
    "Parameters: Specifying the number of characters to be replaced for one tab character. By default, the function takes tab size as 8. \n",
    "Return Value: A string in which all the tab characters are replaced with spaces."
   ]
  },
  {
   "cell_type": "code",
   "execution_count": 146,
   "id": "b70d09e7-0e11-4415-a8eb-4578ef38e275",
   "metadata": {},
   "outputs": [
    {
     "name": "stdout",
     "output_type": "stream",
     "text": [
      "GEEKS   FOR     GEEKS\n",
      "GEEKS FOR GEEKS\n",
      "GEEKS     FOR  GEEKS\n"
     ]
    }
   ],
   "source": [
    "# Python code to illustrate expandtabs() \n",
    "string = 'GEEKS\\tFOR\\tGEEKS'\n",
    "  \n",
    "# No parameters, by default size is 8 \n",
    "print (string.expandtabs()) \n",
    "  \n",
    "# tab size taken as 2 \n",
    "print(string.expandtabs(2)) \n",
    "  \n",
    "# tab size taken as 5 \n",
    "print(string.expandtabs(5)) "
   ]
  },
  {
   "cell_type": "markdown",
   "id": "9af7dd20-9cbe-4974-80c5-48bac20b807a",
   "metadata": {},
   "source": [
    "# give 15 unique method example of lis"
   ]
  },
  {
   "cell_type": "markdown",
   "id": "77261151-9790-4fb1-989b-dbd06756ad0e",
   "metadata": {},
   "source": [
    "### 1). Get Unique Values from a List by Traversal of the List"
   ]
  },
  {
   "cell_type": "code",
   "execution_count": 152,
   "id": "214bb7df-ce35-464a-aced-0663af920e68",
   "metadata": {},
   "outputs": [
    {
     "name": "stdout",
     "output_type": "stream",
     "text": [
      "the unique values from 1st list is\n",
      "10\n",
      "20\n",
      "30\n",
      "40\n",
      "\n",
      "the unique values from 2nd list is\n",
      "1\n",
      "2\n",
      "3\n",
      "4\n",
      "5\n"
     ]
    }
   ],
   "source": [
    "# function to get unique values\n",
    "def unique(list1):\n",
    "\n",
    "    # initialize a null list\n",
    "    unique_list = []\n",
    "\n",
    "    # traverse for all elements\n",
    "    for x in list1:\n",
    "        # check if exists in unique_list or not\n",
    "        if x not in unique_list:\n",
    "            unique_list.append(x)\n",
    "    # print list\n",
    "    for x in unique_list:\n",
    "        print (x),\n",
    "\n",
    "\n",
    "# driver code\n",
    "list1 = [10, 20, 10, 30, 40, 40]\n",
    "print(\"the unique values from 1st list is\")\n",
    "unique(list1)\n",
    "\n",
    "\n",
    "list2 = [1, 2, 1, 1, 3, 4, 3, 3, 5]\n",
    "print(\"\\nthe unique values from 2nd list is\")\n",
    "unique(list2)"
   ]
  },
  {
   "cell_type": "markdown",
   "id": "7de019b3-dfee-44d7-8a67-dc8f1ba99e82",
   "metadata": {},
   "source": [
    "### 2). Get Unique Values From a List in Python Using reduce() function\r\n",
    "Using Python import reduce() from functools and iterate over all element and checks if the element is a duplicate or unique value. Below is the implementation of the above approach"
   ]
  },
  {
   "cell_type": "code",
   "execution_count": 202,
   "id": "5d40dd57-a9e2-4d48-87c0-de7452ef1536",
   "metadata": {},
   "outputs": [
    {
     "name": "stdout",
     "output_type": "stream",
     "text": [
      "the unique values from 1st list is\n",
      "[10, 20, 30, 40]\n",
      "\n",
      "the unique values from 2nd list is\n",
      "[1, 2, 3, 4, 5]\n"
     ]
    }
   ],
   "source": [
    "from functools import reduce\n",
    "\n",
    "def unique(list1):\n",
    "\n",
    "    # Print directly by using * symbol\n",
    "    ans = reduce(lambda re, x: re+[x] if x not in re else re, list1, [])\n",
    "    print(ans)\n",
    "\n",
    "\n",
    "# driver code\n",
    "list1 = [10, 20, 10, 30, 40, 40]\n",
    "print(\"the unique values from 1st list is\")\n",
    "unique(list1)\n",
    "\n",
    "\n",
    "list2 = [1, 2, 1, 1, 3, 4, 3, 3, 5]\n",
    "print(\"\\nthe unique values from 2nd list is\")\n",
    "unique(list2)"
   ]
  },
  {
   "cell_type": "markdown",
   "id": "091ccd5b-03a7-48ff-abbf-afaee83d4ae7",
   "metadata": {},
   "source": [
    "### 3). Get Unique Values From a List in Python Using Operator.countOf() method\n",
    "The ‘unique’ function initializes an empty ‘unique_list’, then iterates through ‘list1’. For each element ‘x’, it employs ‘op.countOf()‘ to check if ‘x’ is present in ‘unique_list’. If not found (count is 0), ‘x’ is appended to ‘unique_list’. The final unique values are printed using a loop. The driver code demonstrates this process for two lists, ‘list1’ and ‘list2’, showcasing the extraction of distinct elements from each list while maintaining their original order."
   ]
  },
  {
   "cell_type": "code",
   "execution_count": 205,
   "id": "8a5b590e-a055-4b47-85c1-02b041c204f2",
   "metadata": {},
   "outputs": [
    {
     "name": "stdout",
     "output_type": "stream",
     "text": [
      "the unique values from 1st list is\n",
      "10\n",
      "20\n",
      "30\n",
      "40\n",
      "\n",
      "the unique values from 2nd list is\n",
      "1\n",
      "2\n",
      "3\n",
      "4\n",
      "5\n"
     ]
    }
   ],
   "source": [
    "import operator as op\n",
    "# function to get unique values\n",
    "\n",
    "\n",
    "def unique(list1):\n",
    "\n",
    "    # initialize a null list\n",
    "    unique_list = []\n",
    "\n",
    "    # traverse for all elements\n",
    "    for x in list1:\n",
    "        # check if exists in unique_list or not\n",
    "        if op.countOf(unique_list, x) == 0:\n",
    "            unique_list.append(x)\n",
    "    # print list\n",
    "    for x in unique_list:\n",
    "        print(x)\n",
    "\n",
    "# driver code\n",
    "list1 = [10, 20, 10, 30, 40, 40]\n",
    "print(\"the unique values from 1st list is\")\n",
    "unique(list1)\n",
    "\n",
    "list2 = [1, 2, 1, 1, 3, 4, 3, 3, 5]\n",
    "print(\"\\nthe unique values from 2nd list is\")\n",
    "unique(list2)"
   ]
  },
  {
   "cell_type": "markdown",
   "id": "f93052bf-963e-4193-832b-88c92091ab01",
   "metadata": {},
   "source": [
    "### 4). Get Unique Values From a List in Python Using pandas module\n",
    "The ‘unique’ function utilizes Pandas to create a Series from ‘list1’, then employs ‘drop_duplicates()’ to eliminate duplicates and obtain a list of unique values. Subsequently, it iterates through the unique list and prints each element. The driver code demonstrates the process for two lists, ‘list1’ and ‘list2’, providing distinct values for each list."
   ]
  },
  {
   "cell_type": "code",
   "execution_count": 208,
   "id": "ecc2c77f-57b4-4f88-97fc-c4028c16c02e",
   "metadata": {},
   "outputs": [
    {
     "name": "stdout",
     "output_type": "stream",
     "text": [
      "the unique values from 1st list is\n",
      "10\n",
      "20\n",
      "30\n",
      "40\n",
      "\n",
      "the unique values from 2nd list is\n",
      "1\n",
      "2\n",
      "3\n",
      "4\n",
      "5\n"
     ]
    }
   ],
   "source": [
    "import pandas as pd\n",
    "\n",
    "# function to get unique values\n",
    "def unique(list1):\n",
    "    unique_list = pd.Series(list1).drop_duplicates().tolist()\n",
    "    for x in unique_list:\n",
    "        print(x)\n",
    "\n",
    "# driver code\n",
    "list1 = [10, 20, 10, 30, 40, 40]\n",
    "print(\"the unique values from 1st list is\")\n",
    "unique(list1)\n",
    "\n",
    "list2 = [1, 2, 1, 1, 3, 4, 3, 3, 5]\n",
    "print(\"\\nthe unique values from 2nd list is\")\n",
    "unique(list2)\n",
    "#This code is contributed by Vinay Pinjala."
   ]
  },
  {
   "cell_type": "markdown",
   "id": "ee8f34fd-faa4-4cdd-bed3-d8aab744f6a0",
   "metadata": {},
   "source": [
    "### 5). Get Unique Values From a List Using numpy.unique\n",
    "Using Python’s import numpy, the unique elements in the array are also obtained. In the first step convert the list to x=numpy.array(list) and then use numpy.unique(x) function to get the unique values from the list. numpy.unique() returns only the unique values in the list. "
   ]
  },
  {
   "cell_type": "code",
   "execution_count": 211,
   "id": "aba632be-1041-4096-bca9-7f7ebd1be379",
   "metadata": {},
   "outputs": [
    {
     "name": "stdout",
     "output_type": "stream",
     "text": [
      "the unique values from 1st list is\n",
      "[10 20 30 40]\n",
      "\n",
      "the unique values from 2nd list is\n",
      "[1 2 3 4 5]\n"
     ]
    }
   ],
   "source": [
    "# using numpy.unique\n",
    "import numpy as np\n",
    "\n",
    "def unique(list1):\n",
    "    x = np.array(list1)\n",
    "    print(np.unique(x))\n",
    "\n",
    "\n",
    "# driver code\n",
    "list1 = [10, 20, 10, 30, 40, 40]\n",
    "print(\"the unique values from 1st list is\")\n",
    "unique(list1)\n",
    "\n",
    "\n",
    "list2 = [1, 2, 1, 1, 3, 4, 3, 3, 5]\n",
    "print(\"\\nthe unique values from 2nd list is\")\n",
    "unique(list2)"
   ]
  },
  {
   "cell_type": "markdown",
   "id": "64dff915-4572-4eb4-bdcb-f4f89a31960f",
   "metadata": {},
   "source": [
    "### 6). Get Unique Values From a List in Python Using collections.Counter()\n",
    "Using Python to import Counter() from collections print all the keys of Counter elements or we print directly by using the “*” symbol. Below is the implementation of the above approach."
   ]
  },
  {
   "cell_type": "code",
   "execution_count": 214,
   "id": "e6555824-3828-4ad6-9228-fd3d9f4d5b15",
   "metadata": {},
   "outputs": [
    {
     "name": "stdout",
     "output_type": "stream",
     "text": [
      "the unique values from 1st list is\n",
      "10 20 30 40\n",
      "\n",
      "the unique values from 2nd list is\n",
      "1 2 3 4 5\n"
     ]
    }
   ],
   "source": [
    "from collections import Counter\n",
    "\n",
    "# Function to get unique values\n",
    "\n",
    "\n",
    "def unique(list1):\n",
    "\n",
    "    # Print directly by using * symbol\n",
    "    print(*Counter(list1))\n",
    "\n",
    "\n",
    "# driver code\n",
    "list1 = [10, 20, 10, 30, 40, 40]\n",
    "print(\"the unique values from 1st list is\")\n",
    "unique(list1)\n",
    "\n",
    "\n",
    "list2 = [1, 2, 1, 1, 3, 4, 3, 3, 5]\n",
    "print(\"\\nthe unique values from 2nd list is\")\n",
    "unique(list2)"
   ]
  },
  {
   "cell_type": "markdown",
   "id": "cfdea0e4-978a-433c-89a6-8497f2ce1d44",
   "metadata": {},
   "source": [
    "### 7). Using List Comprehension"
   ]
  },
  {
   "cell_type": "code",
   "execution_count": 252,
   "id": "cc3b318e-a235-45a1-a48f-582604813226",
   "metadata": {},
   "outputs": [
    {
     "name": "stdout",
     "output_type": "stream",
     "text": [
      "[1, 2, 3, 4, 5, 6]\n"
     ]
    }
   ],
   "source": [
    "my_list = [1, 2, 3, 3, 4, 5, 5, 6]\n",
    "unique_values = [x for i, x in enumerate(my_list) if x not in my_list[:i]]\n",
    "print(unique_values)"
   ]
  },
  {
   "cell_type": "markdown",
   "id": "aa1a01af-57c9-45d3-be53-07594bec3b1b",
   "metadata": {},
   "source": [
    "## 8). Using the Pandas Library"
   ]
  },
  {
   "cell_type": "code",
   "execution_count": 267,
   "id": "5c9da457-8f17-4672-ba07-21e527ffb3ba",
   "metadata": {},
   "outputs": [
    {
     "name": "stdout",
     "output_type": "stream",
     "text": [
      "[1, 2, 3, 4, 5, 6]\n"
     ]
    }
   ],
   "source": [
    "import pandas as pd\n",
    "my_list = [1, 2, 3, 3, 4, 5, 5, 6]\n",
    "unique_values = pd.Series(my_list).unique().tolist()\n",
    "print(unique_values)"
   ]
  },
  {
   "cell_type": "markdown",
   "id": "cd04c280-88a3-4bb2-b848-b942f169bff8",
   "metadata": {},
   "source": [
    "### 9). xamples of Getting Unique Values from a List in Python"
   ]
  },
  {
   "cell_type": "code",
   "execution_count": 272,
   "id": "ea838e13-dcd3-4635-9ce1-5e255452973e",
   "metadata": {},
   "outputs": [
    {
     "name": "stdout",
     "output_type": "stream",
     "text": [
      "[(1, 'a'), (2, 'b'), (4, 'c')]\n"
     ]
    }
   ],
   "source": [
    "my_list = [(1, 'a'), (2, 'b'), (3, 'a'), (4, 'c'), (5, 'b')]\n",
    "unique_values = [x for i, x in enumerate(my_list) if x[1] not in [y[1] for y in my_list[:i]]]\n",
    "print(unique_values)"
   ]
  },
  {
   "cell_type": "markdown",
   "id": "325d13de-43d3-41e3-8000-45ffb6a4262e",
   "metadata": {},
   "source": [
    "### 10). Python list.append() and for loop"
   ]
  },
  {
   "cell_type": "code",
   "execution_count": 297,
   "id": "39607b88-3136-4e41-a871-2e3813d4c6b4",
   "metadata": {},
   "outputs": [
    {
     "name": "stdout",
     "output_type": "stream",
     "text": [
      "Unique elements of the list using append():\n",
      "\n",
      "100\n",
      "75\n",
      "20\n",
      "12\n",
      "25\n"
     ]
    }
   ],
   "source": [
    "list_inp = [100, 75, 100, 20, 75, 12, 75, 25] \n",
    "\n",
    "res_list = []\n",
    "\n",
    "for item in list_inp: \n",
    "    if item not in res_list: \n",
    "        res_list.append(item) \n",
    "\n",
    "print(\"Unique elements of the list using append():\\n\")    \n",
    "for item in res_list: \n",
    "    print(item) "
   ]
  },
  {
   "cell_type": "markdown",
   "id": "557c6d7b-ffe5-4c73-9ad6-42ac96f78693",
   "metadata": {},
   "source": [
    "### 11). Python numpy.unique() function To Create a List with Unique Items"
   ]
  },
  {
   "cell_type": "code",
   "execution_count": 301,
   "id": "11c91182-b112-414a-88fe-291e5aaa5030",
   "metadata": {},
   "outputs": [
    {
     "name": "stdout",
     "output_type": "stream",
     "text": [
      "Unique elements of the list using numpy.unique():\n",
      "\n",
      "[ 12  20  25  75 100]\n"
     ]
    }
   ],
   "source": [
    "import numpy as N\n",
    "list_inp = [100, 75, 100, 20, 75, 12, 75, 25] \n",
    "\n",
    "res = N.array(list_inp) \n",
    "unique_res = N.unique(res) \n",
    "print(\"Unique elements of the list using numpy.unique():\\n\")\n",
    "print(unique_res)\n",
    "      "
   ]
  },
  {
   "cell_type": "markdown",
   "id": "cf3cd36f-334a-4f22-8ba8-db253194e766",
   "metadata": {},
   "source": [
    "### 12). Next Function: next()"
   ]
  },
  {
   "cell_type": "code",
   "execution_count": 304,
   "id": "2331d803-bb7c-4a65-b245-e2ce0e2c70a6",
   "metadata": {},
   "outputs": [
    {
     "name": "stdout",
     "output_type": "stream",
     "text": [
      "blue\n",
      "red\n"
     ]
    }
   ],
   "source": [
    "mylist = iter([\"blue\", \"red\", \"green\"])\n",
    "\n",
    "x = next(mylist)\n",
    "\n",
    "print(x)\n",
    "\n",
    "x = next(mylist)\n",
    "\n",
    "print(x)"
   ]
  },
  {
   "cell_type": "markdown",
   "id": "27733dbe-8fa9-43dd-97f0-9ea63b116a3e",
   "metadata": {},
   "source": [
    "### 13). Range Function: range()"
   ]
  },
  {
   "cell_type": "code",
   "execution_count": 307,
   "id": "f51d3b21-d53a-49e0-88a1-28ffa640a50f",
   "metadata": {},
   "outputs": [
    {
     "name": "stdout",
     "output_type": "stream",
     "text": [
      "0\n",
      "1\n",
      "2\n"
     ]
    }
   ],
   "source": [
    "mylist = range(3)\n",
    "\n",
    "for x in mylist:\n",
    "\n",
    "  print(x)"
   ]
  },
  {
   "cell_type": "markdown",
   "id": "8eb44608-d98b-4cb4-bf67-b7bf83be4d88",
   "metadata": {},
   "source": [
    "### 14). Add Function: add()"
   ]
  },
  {
   "cell_type": "code",
   "execution_count": 310,
   "id": "97106140-7d20-4108-9534-e63b34bb098a",
   "metadata": {},
   "outputs": [
    {
     "name": "stdout",
     "output_type": "stream",
     "text": [
      "{'bird', 'elephant', 'dog', 'cat'}\n"
     ]
    }
   ],
   "source": [
    "mylist = {\"dog\", \"cat\", \"bird\"}\n",
    "\n",
    "mylist.add(\"elephant\")\n",
    "\n",
    "print(mylist)"
   ]
  },
  {
   "cell_type": "markdown",
   "id": "91f3103e-660d-44d3-bbc4-9d23b44a4536",
   "metadata": {},
   "source": [
    "### 15). Random Choice Function: choice()"
   ]
  },
  {
   "cell_type": "code",
   "execution_count": 313,
   "id": "9777d410-3800-453e-ac76-bd40d16b65ff",
   "metadata": {},
   "outputs": [
    {
     "name": "stdout",
     "output_type": "stream",
     "text": [
      "bird\n"
     ]
    }
   ],
   "source": [
    "import random\n",
    "\n",
    "animals = [\"bear\", \"squirrel\", \"bird\", \"deer\", \"hedgehog\"]\n",
    "\n",
    "print(random.choice(animals))"
   ]
  },
  {
   "cell_type": "markdown",
   "id": "203dded7-2679-4788-8870-06de4006edff",
   "metadata": {},
   "source": [
    "### 16).  Remove Function: remove()"
   ]
  },
  {
   "cell_type": "code",
   "execution_count": 316,
   "id": "b5b95e69-871b-4cc8-b4b9-0bea66356e11",
   "metadata": {},
   "outputs": [
    {
     "name": "stdout",
     "output_type": "stream",
     "text": [
      "[1, 2, 3, 5]\n"
     ]
    }
   ],
   "source": [
    "mylist = [1, 2, 3, 4, 5]\n",
    "\n",
    "mylist.remove(4)\n",
    "\n",
    "print(mylist)"
   ]
  },
  {
   "cell_type": "markdown",
   "id": "35d3659d-223f-40e4-8a2e-7bf66af06fd2",
   "metadata": {},
   "source": [
    "### 17). Reverse Function: reverse()"
   ]
  },
  {
   "cell_type": "code",
   "execution_count": 319,
   "id": "95d40d07-cd14-4b84-831b-3e3cc97c7e9c",
   "metadata": {},
   "outputs": [
    {
     "name": "stdout",
     "output_type": "stream",
     "text": [
      "[5, 4, 3, 2, 1]\n"
     ]
    }
   ],
   "source": [
    "mylist = [1, 2, 3, 4, 5]\n",
    "\n",
    "mylist.reverse()\n",
    "\n",
    "print(mylist)"
   ]
  },
  {
   "cell_type": "markdown",
   "id": "9db2346f-e8dd-4a5c-8030-405a661216b0",
   "metadata": {},
   "source": [
    "### 18). Slice Function: slice()"
   ]
  },
  {
   "cell_type": "code",
   "execution_count": 323,
   "id": "7262cf85-3966-4adf-8052-24b900749fa1",
   "metadata": {},
   "outputs": [
    {
     "name": "stdout",
     "output_type": "stream",
     "text": [
      "('apple', 'banana', 'cherry', 'kiwi')\n"
     ]
    }
   ],
   "source": [
    "fruits = (\"apple\", \"banana\", \"cherry\", \"kiwi\", \"date\", \"fig\",)\n",
    "\n",
    "x = slice(4)\n",
    "\n",
    "print(fruits[x])"
   ]
  },
  {
   "cell_type": "markdown",
   "id": "92d4569e-16b0-4339-920e-7ae2ef2ee024",
   "metadata": {},
   "source": [
    "### 19). Sort Function: sort()"
   ]
  },
  {
   "cell_type": "code",
   "execution_count": 326,
   "id": "ac261d6f-8d32-4eb3-af2e-e22cf9e9bc0a",
   "metadata": {},
   "outputs": [
    {
     "name": "stdout",
     "output_type": "stream",
     "text": [
      "[3, 8, 16, 25, 44]\n"
     ]
    }
   ],
   "source": [
    "mylist = [44, 3, 8, 16, 25]\n",
    "\n",
    "mylist.sort()\n",
    "\n",
    "print(mylist)"
   ]
  },
  {
   "cell_type": "markdown",
   "id": "c49cf562-ecfd-43df-a613-15945fca3318",
   "metadata": {},
   "source": [
    "### 20). Sorted Function: sorted()"
   ]
  },
  {
   "cell_type": "code",
   "execution_count": 329,
   "id": "2e6a761d-8de5-4846-a677-245994a1b434",
   "metadata": {},
   "outputs": [
    {
     "name": "stdout",
     "output_type": "stream",
     "text": [
      "['bear', 'cat', 'cow', 'deer', 'dog', 'koala', 'rooster']\n"
     ]
    }
   ],
   "source": [
    "animals = (\"dog\", \"cat\", \"bear\", \"deer\", \"koala\", \"rooster\", \"cow\")\n",
    "\n",
    "myvalue = sorted(animals)\n",
    "\n",
    "print(myvalue)"
   ]
  },
  {
   "cell_type": "code",
   "execution_count": null,
   "id": "ec44cf05-6778-46f2-a5ec-5341154163f7",
   "metadata": {},
   "outputs": [],
   "source": []
  }
 ],
 "metadata": {
  "kernelspec": {
   "display_name": "Python 3 (ipykernel)",
   "language": "python",
   "name": "python3"
  },
  "language_info": {
   "codemirror_mode": {
    "name": "ipython",
    "version": 3
   },
   "file_extension": ".py",
   "mimetype": "text/x-python",
   "name": "python",
   "nbconvert_exporter": "python",
   "pygments_lexer": "ipython3",
   "version": "3.12.4"
  }
 },
 "nbformat": 4,
 "nbformat_minor": 5
}
