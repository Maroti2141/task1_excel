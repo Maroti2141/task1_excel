{
 "cells": [
  {
   "cell_type": "markdown",
   "id": "7009935b-5a60-455c-b804-b27de05b6473",
   "metadata": {},
   "source": [
    "### 1.capitalize() //Upper case the first letter in this sentence:"
   ]
  },
  {
   "cell_type": "code",
   "execution_count": 31,
   "id": "13bdb168-7459-46f6-9c75-81b55fb3e6c7",
   "metadata": {},
   "outputs": [
    {
     "name": "stdout",
     "output_type": "stream",
     "text": [
      "Python is fun!\n"
     ]
    }
   ],
   "source": [
    "txt = \"python is FUN!\"\n",
    "\n",
    "x = txt.capitalize()\n",
    "\n",
    "print (x)"
   ]
  },
  {
   "cell_type": "markdown",
   "id": "1f29e83c-57c9-44f6-ad7d-2713b6fb28cb",
   "metadata": {},
   "source": [
    "### 2.casefold() //Make the string lower case:"
   ]
  },
  {
   "cell_type": "code",
   "execution_count": 35,
   "id": "79cef673-99b0-4423-b65c-e9a9b0dcfce5",
   "metadata": {},
   "outputs": [
    {
     "name": "stdout",
     "output_type": "stream",
     "text": [
      "hello, and welcome to my world!\n"
     ]
    }
   ],
   "source": [
    "txt = \"Hello, And Welcome To My World!\"\n",
    "\n",
    "x = txt.casefold()\n",
    "\n",
    "print(x)"
   ]
  },
  {
   "cell_type": "markdown",
   "id": "710d6302-407e-4151-8d5d-a49711ce1667",
   "metadata": {},
   "source": [
    "### 3.center() //Print the word \"banana\", taking up the space of 20 characters, with \"banana\" in the middle:"
   ]
  },
  {
   "cell_type": "code",
   "execution_count": 38,
   "id": "0250ed8b-e208-45f1-976b-812fcc537b4a",
   "metadata": {},
   "outputs": [
    {
     "name": "stdout",
     "output_type": "stream",
     "text": [
      "       banana       \n"
     ]
    }
   ],
   "source": [
    "txt = \"banana\"\n",
    "\n",
    "x = txt.center(20)\n",
    "\n",
    "print(x)"
   ]
  },
  {
   "cell_type": "markdown",
   "id": "761fdffd-4d75-4c3a-9767-cb5db4acba4a",
   "metadata": {},
   "source": [
    "### 4.count() //Return the number of times the value \"apple\" appears in the string:"
   ]
  },
  {
   "cell_type": "code",
   "execution_count": 45,
   "id": "9ab10945-dd5a-4307-909c-760e243ba433",
   "metadata": {},
   "outputs": [
    {
     "name": "stdout",
     "output_type": "stream",
     "text": [
      "2\n"
     ]
    }
   ],
   "source": [
    "txt = \"I love apples, apple are my favorite fruit\"\n",
    "\n",
    "x = txt.count(\"apple\")\n",
    "\n",
    "print(x)"
   ]
  },
  {
   "cell_type": "markdown",
   "id": "2988ff04-af0f-4161-9c7f-54ab1d93b748",
   "metadata": {},
   "source": [
    "### 5.encode() //UTF-8 encode the string:"
   ]
  },
  {
   "cell_type": "code",
   "execution_count": 50,
   "id": "c2206157-30a1-4f8a-a6e4-b9c58ec6bfbb",
   "metadata": {},
   "outputs": [
    {
     "name": "stdout",
     "output_type": "stream",
     "text": [
      "b'My name is St\\xc3\\xa5le'\n"
     ]
    }
   ],
   "source": [
    "txt = \"My name is Ståle\"\n",
    "\n",
    "x = txt.encode()\n",
    "\n",
    "print(x)"
   ]
  },
  {
   "cell_type": "markdown",
   "id": "0fac02f9-0a0d-4647-bbf4-93388f4e865f",
   "metadata": {},
   "source": [
    "### 6.endswith() //Check if the string ends with a punctuation sign (.):"
   ]
  },
  {
   "cell_type": "code",
   "execution_count": 65,
   "id": "51cf29f8-c53f-4a86-a335-bee6ac418dea",
   "metadata": {},
   "outputs": [
    {
     "name": "stdout",
     "output_type": "stream",
     "text": [
      "True\n"
     ]
    }
   ],
   "source": [
    "txt = \"Hello, welcome to my world.\"\n",
    "\n",
    "x = txt.endswith(\".\")\n",
    "\n",
    "print(x)\n"
   ]
  },
  {
   "cell_type": "markdown",
   "id": "ae1a5ac0-9bf3-4a13-8462-d7b9496864c1",
   "metadata": {},
   "source": [
    "### 7.expandtabs() //Set the tab size to 2 whitespaces:"
   ]
  },
  {
   "cell_type": "code",
   "execution_count": 68,
   "id": "e34b01b3-7526-4e27-a68a-b3bfa295e7b7",
   "metadata": {},
   "outputs": [
    {
     "name": "stdout",
     "output_type": "stream",
     "text": [
      "H e l l o\n"
     ]
    }
   ],
   "source": [
    "txt = \"H\\te\\tl\\tl\\to\"\n",
    "\n",
    "x =  txt.expandtabs(2)\n",
    "\n",
    "print(x)"
   ]
  },
  {
   "cell_type": "markdown",
   "id": "c998048b-7539-4741-aa77-c428e5d7bdbd",
   "metadata": {},
   "source": [
    "### 8.find() //Where in the text is the word \"welcome\"?:"
   ]
  },
  {
   "cell_type": "code",
   "execution_count": 71,
   "id": "06b5319d-61b9-4fba-9a6f-9356c6ab5659",
   "metadata": {},
   "outputs": [
    {
     "name": "stdout",
     "output_type": "stream",
     "text": [
      "7\n"
     ]
    }
   ],
   "source": [
    "txt = \"Hello, welcome to my world.\"\n",
    "\n",
    "x = txt.find(\"welcome\")\n",
    "\n",
    "print(x)"
   ]
  },
  {
   "cell_type": "markdown",
   "id": "b5fa5001-c354-4fcd-a3f1-bea8a4bc8248",
   "metadata": {},
   "source": [
    "### 9.format() //Insert the price inside the placeholder, the price should be in fixed point, two-decimal format:"
   ]
  },
  {
   "cell_type": "code",
   "execution_count": 76,
   "id": "d391a832-5ebd-4aa7-b23e-05d6169280c3",
   "metadata": {},
   "outputs": [
    {
     "name": "stdout",
     "output_type": "stream",
     "text": [
      "For only 49.00 dollars!\n"
     ]
    }
   ],
   "source": [
    "txt = \"For only {price:.2f} dollars!\"\n",
    "print(txt.format(price = 49))"
   ]
  },
  {
   "cell_type": "markdown",
   "id": "b857a694-905f-4c81-b42d-31f782546a98",
   "metadata": {},
   "source": [
    "### 10.index() //Where in the text is the word \"welcome\"?:"
   ]
  },
  {
   "cell_type": "code",
   "execution_count": 79,
   "id": "eec13287-8677-4dde-a9c9-bf34ea010dca",
   "metadata": {},
   "outputs": [
    {
     "name": "stdout",
     "output_type": "stream",
     "text": [
      "7\n"
     ]
    }
   ],
   "source": [
    "txt = \"Hello, welcome to my world.\"\n",
    "\n",
    "x = txt.index(\"welcome\")\n",
    "\n",
    "print(x)"
   ]
  },
  {
   "cell_type": "markdown",
   "id": "1935ad2f-2de3-406c-8f79-201304538cf5",
   "metadata": {},
   "source": [
    "### 11.isalnum() //Check if all the characters in the text are alphanumeric:"
   ]
  },
  {
   "cell_type": "code",
   "execution_count": 83,
   "id": "e9131147-3937-4ce5-ab6a-6fce746a89d4",
   "metadata": {},
   "outputs": [
    {
     "name": "stdout",
     "output_type": "stream",
     "text": [
      "True\n"
     ]
    }
   ],
   "source": [
    "txt = \"Company12\"\n",
    "\n",
    "x = txt.isalnum()\n",
    "\n",
    "print(x)"
   ]
  },
  {
   "cell_type": "markdown",
   "id": "11de95a8-3f60-414a-bd6e-cc0833561265",
   "metadata": {},
   "source": [
    "### 12.isalpha() //Check if all the characters in the text are letters:"
   ]
  },
  {
   "cell_type": "code",
   "execution_count": 86,
   "id": "44426bd4-8e4c-4bcf-b048-262aaeac02ad",
   "metadata": {},
   "outputs": [
    {
     "name": "stdout",
     "output_type": "stream",
     "text": [
      "True\n"
     ]
    }
   ],
   "source": [
    "txt = \"CompanyX\"\n",
    "\n",
    "x = txt.isalpha()\n",
    "\n",
    "print(x)"
   ]
  },
  {
   "cell_type": "markdown",
   "id": "0e2d3eef-8916-4fe6-b273-69959d612738",
   "metadata": {},
   "source": [
    "### 13.isascii() //Check if all the characters in the text are ascii characters:"
   ]
  },
  {
   "cell_type": "code",
   "execution_count": 89,
   "id": "b5c3800f-9919-4fda-abbf-92712d79ed95",
   "metadata": {},
   "outputs": [
    {
     "name": "stdout",
     "output_type": "stream",
     "text": [
      "True\n"
     ]
    }
   ],
   "source": [
    "txt = \"Company123\"\n",
    "\n",
    "x = txt.isascii()\n",
    "\n",
    "print(x)"
   ]
  },
  {
   "cell_type": "markdown",
   "id": "f9584560-572d-4851-ad8c-9536f4e4de5c",
   "metadata": {},
   "source": [
    "### 14.isdecimal() //Check if all the characters in a string are decimals (0-9): "
   ]
  },
  {
   "cell_type": "code",
   "execution_count": 92,
   "id": "f2124d1a-ec56-4ef0-a568-72925700d4d5",
   "metadata": {},
   "outputs": [
    {
     "name": "stdout",
     "output_type": "stream",
     "text": [
      "True\n"
     ]
    }
   ],
   "source": [
    "txt = \"1234\"\n",
    "\n",
    "x = txt.isdecimal()\n",
    "\n",
    "print(x)"
   ]
  },
  {
   "cell_type": "markdown",
   "id": "8a3cc4f7-13eb-46da-93e4-b69fdbf0d22e",
   "metadata": {},
   "source": [
    "### 15.isdigit() //Check if all the characters in the text are digits:"
   ]
  },
  {
   "cell_type": "code",
   "execution_count": 95,
   "id": "b27e4bfd-215d-4181-8fa6-e4f9ccae8807",
   "metadata": {},
   "outputs": [
    {
     "name": "stdout",
     "output_type": "stream",
     "text": [
      "True\n"
     ]
    }
   ],
   "source": [
    "txt = \"50800\"\n",
    "\n",
    "x = txt.isdigit()\n",
    "\n",
    "print(x)"
   ]
  },
  {
   "cell_type": "markdown",
   "id": "41fd13a8-b2cd-46e2-b91c-661f7a9ea6b8",
   "metadata": {},
   "source": [
    "### 17.isidentifier() //Check if the string is a valid identifier:"
   ]
  },
  {
   "cell_type": "code",
   "execution_count": 98,
   "id": "7a969483-ab0d-4dae-86df-e481011886ec",
   "metadata": {},
   "outputs": [
    {
     "name": "stdout",
     "output_type": "stream",
     "text": [
      "True\n"
     ]
    }
   ],
   "source": [
    "txt = \"Demo\"\n",
    "\n",
    "x = txt.isidentifier()\n",
    "\n",
    "print(x)"
   ]
  },
  {
   "cell_type": "markdown",
   "id": "2b6e75d5-c032-4e95-8e23-5898c60c2dd3",
   "metadata": {},
   "source": [
    "### 18.islower() //Check if all the characters in the text are in lower case:"
   ]
  },
  {
   "cell_type": "code",
   "execution_count": 102,
   "id": "125378f1-7369-4e9c-b426-1bb5ed92dbda",
   "metadata": {},
   "outputs": [
    {
     "name": "stdout",
     "output_type": "stream",
     "text": [
      "True\n"
     ]
    }
   ],
   "source": [
    "txt = \"hello world!\"\n",
    "\n",
    "x = txt.islower()\n",
    "\n",
    "print(x)"
   ]
  },
  {
   "cell_type": "markdown",
   "id": "b3cf84cb-4050-4879-9558-447fcc749473",
   "metadata": {},
   "source": [
    "### 19.isnumeric() //Check if all the characters in the text are numeric:"
   ]
  },
  {
   "cell_type": "code",
   "execution_count": 106,
   "id": "7d3b0788-13e6-4b1d-a269-e208e480e7a8",
   "metadata": {},
   "outputs": [
    {
     "name": "stdout",
     "output_type": "stream",
     "text": [
      "True\n"
     ]
    }
   ],
   "source": [
    "txt = \"565543\"\n",
    "\n",
    "x = txt.isnumeric()\n",
    "\n",
    "print(x)"
   ]
  },
  {
   "cell_type": "markdown",
   "id": "a496794a-8b93-4eb5-b2bc-f9057e0a66d5",
   "metadata": {},
   "source": [
    "### 20.isprintable()  //Check if all the characters in the text are printable:"
   ]
  },
  {
   "cell_type": "code",
   "execution_count": 110,
   "id": "af2797df-7cee-4b0c-aead-3d4fc64563df",
   "metadata": {},
   "outputs": [
    {
     "name": "stdout",
     "output_type": "stream",
     "text": [
      "True\n"
     ]
    }
   ],
   "source": [
    "txt = \"Hello! Are you #1?\"\n",
    "\n",
    "x = txt.isprintable()\n",
    "\n",
    "print(x)"
   ]
  },
  {
   "cell_type": "markdown",
   "id": "2751b930-a035-4a1f-a5c2-81999ce39e9b",
   "metadata": {},
   "source": [
    "### 21.isspace() //Check if all the characters in the text are whitespaces:"
   ]
  },
  {
   "cell_type": "code",
   "execution_count": 114,
   "id": "e43d40e9-f04d-4ff6-a21e-1a03d11dfa1e",
   "metadata": {},
   "outputs": [
    {
     "name": "stdout",
     "output_type": "stream",
     "text": [
      "True\n"
     ]
    }
   ],
   "source": [
    "txt = \"   \"\n",
    "\n",
    "x = txt.isspace()\n",
    "\n",
    "print(x)"
   ]
  },
  {
   "cell_type": "markdown",
   "id": "5554f43d-1613-465b-b229-53800da0e7ae",
   "metadata": {},
   "source": [
    "### 22.istitle()  //Check if each word start with an upper case letter:"
   ]
  },
  {
   "cell_type": "code",
   "execution_count": 117,
   "id": "bde3c78f-01df-44a9-b85d-d6e97b766bd7",
   "metadata": {},
   "outputs": [
    {
     "name": "stdout",
     "output_type": "stream",
     "text": [
      "True\n"
     ]
    }
   ],
   "source": [
    "txt = \"Hello, And Welcome To My World!\"\n",
    "\n",
    "x = txt.istitle()\n",
    "\n",
    "print(x)"
   ]
  },
  {
   "cell_type": "markdown",
   "id": "0947213d-ea94-478b-a489-9d8effe10b14",
   "metadata": {},
   "source": [
    "### 23.join() //Join all items in a tuple into a string, using a hash character as separator:"
   ]
  },
  {
   "cell_type": "code",
   "execution_count": 120,
   "id": "1c642699-9519-46f6-a0db-152a34d8cad7",
   "metadata": {},
   "outputs": [
    {
     "name": "stdout",
     "output_type": "stream",
     "text": [
      "John#Peter#Vicky\n"
     ]
    }
   ],
   "source": [
    "myTuple = (\"John\", \"Peter\", \"Vicky\")\n",
    "\n",
    "x = \"#\".join(myTuple)\n",
    "\n",
    "print(x)"
   ]
  },
  {
   "cell_type": "markdown",
   "id": "97483bf9-9f0c-46c1-87ca-1996b3ef1e3e",
   "metadata": {},
   "source": [
    "### 24.ljust() //Return a 20 characters long, left justified version of the word \"banana\":"
   ]
  },
  {
   "cell_type": "code",
   "execution_count": 123,
   "id": "93d27bcd-f0ca-4e3f-87d2-9032fdcd8b9b",
   "metadata": {},
   "outputs": [
    {
     "name": "stdout",
     "output_type": "stream",
     "text": [
      "banana               is my favorite fruit.\n"
     ]
    }
   ],
   "source": [
    "txt = \"banana\"\n",
    "\n",
    "x = txt.ljust(20)\n",
    "\n",
    "print(x, \"is my favorite fruit.\")"
   ]
  },
  {
   "cell_type": "markdown",
   "id": "01f02964-4b15-4864-a060-77bbf0fa7565",
   "metadata": {},
   "source": [
    "### 25.lower() //Lower case the string:"
   ]
  },
  {
   "cell_type": "code",
   "execution_count": 126,
   "id": "281c5d94-d35e-4487-81f8-fe52e8fabeda",
   "metadata": {},
   "outputs": [
    {
     "name": "stdout",
     "output_type": "stream",
     "text": [
      "hello my friends\n"
     ]
    }
   ],
   "source": [
    "txt = \"Hello my FRIENDS\"\n",
    "\n",
    "x = txt.lower()\n",
    "\n",
    "print(x)"
   ]
  },
  {
   "cell_type": "markdown",
   "id": "90acd6ea-c9a6-4f29-bc6b-b694480666d4",
   "metadata": {},
   "source": [
    "### 26.lstrip() //Remove spaces to the left of the string:"
   ]
  },
  {
   "cell_type": "code",
   "execution_count": 129,
   "id": "e8529df7-7ef3-42e1-b43c-a461734f4bfb",
   "metadata": {},
   "outputs": [
    {
     "name": "stdout",
     "output_type": "stream",
     "text": [
      "of all fruits banana      is my favorite\n"
     ]
    }
   ],
   "source": [
    "txt = \"     banana     \"\n",
    "\n",
    "x = txt.lstrip()\n",
    "\n",
    "print(\"of all fruits\", x, \"is my favorite\")"
   ]
  },
  {
   "cell_type": "markdown",
   "id": "1fcf9c0d-e711-4f27-88f4-e4bf9cb3d9d1",
   "metadata": {},
   "source": [
    "### 27.maketrans() //Create a mapping table, and use it in the translate() method to replace any \"S\" characters with a \"P\" character:"
   ]
  },
  {
   "cell_type": "code",
   "execution_count": 132,
   "id": "ced8f440-0c62-41ee-8c91-82edc54d9327",
   "metadata": {},
   "outputs": [
    {
     "name": "stdout",
     "output_type": "stream",
     "text": [
      "Hello Pam!\n"
     ]
    }
   ],
   "source": [
    "txt = \"Hello Sam!\"\n",
    "mytable = str.maketrans(\"S\", \"P\")\n",
    "print(txt.translate(mytable))"
   ]
  },
  {
   "cell_type": "markdown",
   "id": "c37c8cd1-82d9-4e61-aa2f-351837b8c0fb",
   "metadata": {},
   "source": [
    "### 28.partition() //Search for the word \"bananas\", and return a tuple with three elements:\n",
    "\n",
    "1 - everything before the \"match\"\n",
    "2 - the \"match\"\n",
    "3 - everything after the \"match\""
   ]
  },
  {
   "cell_type": "code",
   "execution_count": 137,
   "id": "aa857ebf-7863-4b27-819d-228b9d749c52",
   "metadata": {},
   "outputs": [
    {
     "name": "stdout",
     "output_type": "stream",
     "text": [
      "('I could eat ', 'bananas', ' all day')\n"
     ]
    }
   ],
   "source": [
    "txt = \"I could eat bananas all day\"\n",
    "\n",
    "x = txt.partition(\"bananas\")\n",
    "\n",
    "print(x)"
   ]
  },
  {
   "cell_type": "markdown",
   "id": "a3759b7d-7190-4be6-8c7a-619204745dd3",
   "metadata": {},
   "source": [
    "### 29.replace() //Replace the word \"bananas\":"
   ]
  },
  {
   "cell_type": "code",
   "execution_count": 140,
   "id": "d7d76624-ba06-4e24-878f-b42b6b8bf916",
   "metadata": {},
   "outputs": [
    {
     "name": "stdout",
     "output_type": "stream",
     "text": [
      "I like apples\n"
     ]
    }
   ],
   "source": [
    "txt = \"I like bananas\"\n",
    "\n",
    "x = txt.replace(\"bananas\", \"apples\")\n",
    "\n",
    "print(x)"
   ]
  },
  {
   "cell_type": "markdown",
   "id": "4281d8e8-65fc-4bd8-9df8-4eea5b743a82",
   "metadata": {},
   "source": [
    "### 30.rfind() //Where in the text is the last occurrence of the string \"casa\"?:"
   ]
  },
  {
   "cell_type": "code",
   "execution_count": 143,
   "id": "50d29adf-c03f-4e84-b10f-1128e5045233",
   "metadata": {},
   "outputs": [
    {
     "name": "stdout",
     "output_type": "stream",
     "text": [
      "12\n"
     ]
    }
   ],
   "source": [
    "txt = \"Mi casa, su casa.\"\n",
    "\n",
    "x = txt.rfind(\"casa\")\n",
    "\n",
    "print(x)"
   ]
  },
  {
   "cell_type": "markdown",
   "id": "01051745-137c-4fc3-8404-fc6e2859de92",
   "metadata": {},
   "source": [
    "### 31.rindex() //Where in the text is the last occurrence of the string \"casa\"?:"
   ]
  },
  {
   "cell_type": "code",
   "execution_count": 146,
   "id": "7ae1e50b-0f04-4d7f-8ce3-bbe7d59656fa",
   "metadata": {},
   "outputs": [
    {
     "name": "stdout",
     "output_type": "stream",
     "text": [
      "12\n"
     ]
    }
   ],
   "source": [
    "txt = \"Mi casa, su casa.\"\n",
    "\n",
    "x = txt.rindex(\"casa\")\n",
    "\n",
    "print(x)"
   ]
  },
  {
   "cell_type": "markdown",
   "id": "dbc83619-1dd3-4377-a89e-fd93a3d64b14",
   "metadata": {},
   "source": [
    "### 32.rjust() //Return a 20 characters long, right justified version of the word \"banana\":"
   ]
  },
  {
   "cell_type": "code",
   "execution_count": 149,
   "id": "090e4692-d29d-4636-949b-b73cc189c5eb",
   "metadata": {},
   "outputs": [
    {
     "name": "stdout",
     "output_type": "stream",
     "text": [
      "              banana is my favorite fruit.\n"
     ]
    }
   ],
   "source": [
    "txt = \"banana\"\n",
    "\n",
    "x = txt.rjust(20)\n",
    "\n",
    "print(x, \"is my favorite fruit.\")"
   ]
  },
  {
   "cell_type": "markdown",
   "id": "c4942e1f-af1e-4642-ac8d-742a3ce330f7",
   "metadata": {},
   "source": [
    "### 33.rpartition() //Search for the last occurrence of the word \"bananas\", and return a tuple with three elements:\n",
    "\n",
    "1 - everything before the \"match\"\n",
    "2 - the \"match\"\n",
    "3 - everything after the \"match\""
   ]
  },
  {
   "cell_type": "code",
   "execution_count": 152,
   "id": "3cbbd8ef-932b-4650-b1d4-fdbfe75b8603",
   "metadata": {},
   "outputs": [
    {
     "name": "stdout",
     "output_type": "stream",
     "text": [
      "('I could eat bananas all day, ', 'bananas', ' are my favorite fruit')\n"
     ]
    }
   ],
   "source": [
    "txt = \"I could eat bananas all day, bananas are my favorite fruit\"\n",
    "\n",
    "x = txt.rpartition(\"bananas\")\n",
    "\n",
    "print(x)"
   ]
  },
  {
   "cell_type": "markdown",
   "id": "a02b0609-3117-4b71-af9f-35a5192b5aad",
   "metadata": {},
   "source": [
    "### 34.rsplit() //Split a string into a list, using comma, followed by a space (, ) as the separator:"
   ]
  },
  {
   "cell_type": "code",
   "execution_count": 155,
   "id": "dc997f29-e81f-4e2c-bc4a-55029a72a11f",
   "metadata": {},
   "outputs": [
    {
     "name": "stdout",
     "output_type": "stream",
     "text": [
      "['apple', 'banana', 'cherry']\n"
     ]
    }
   ],
   "source": [
    "txt = \"apple, banana, cherry\"\n",
    "\n",
    "x = txt.rsplit(\", \")\n",
    "\n",
    "print(x)"
   ]
  },
  {
   "cell_type": "markdown",
   "id": "1379be82-c34e-49ae-8276-6f2c76b7e88c",
   "metadata": {},
   "source": [
    "### 35.rstrip() //Remove any white spaces at the end of the string:"
   ]
  },
  {
   "cell_type": "code",
   "execution_count": 158,
   "id": "dc7d6f55-53f6-4467-8a2b-d810ee6c552c",
   "metadata": {},
   "outputs": [
    {
     "name": "stdout",
     "output_type": "stream",
     "text": [
      "of all fruits      banana is my favorite\n"
     ]
    }
   ],
   "source": [
    "txt = \"     banana     \"\n",
    "\n",
    "x = txt.rstrip()\n",
    "\n",
    "print(\"of all fruits\", x, \"is my favorite\")"
   ]
  },
  {
   "cell_type": "markdown",
   "id": "5632579a-7154-4b6b-aa42-3bd3ea6be1e0",
   "metadata": {},
   "source": [
    "### 36.split() //Split a string into a list where each word is a list item:"
   ]
  },
  {
   "cell_type": "code",
   "execution_count": 161,
   "id": "29a7ec45-6371-4c6a-9d7a-ca06fdd2453b",
   "metadata": {},
   "outputs": [
    {
     "name": "stdout",
     "output_type": "stream",
     "text": [
      "['welcome', 'to', 'the', 'jungle']\n"
     ]
    }
   ],
   "source": [
    "txt = \"welcome to the jungle\"\n",
    "\n",
    "x = txt.split()\n",
    "\n",
    "print(x)"
   ]
  },
  {
   "cell_type": "markdown",
   "id": "12d297b2-29da-4127-9cd1-cc1faf3ab504",
   "metadata": {},
   "source": [
    "### 37.splitlines() //Split a string into a list where each line is a list item:"
   ]
  },
  {
   "cell_type": "code",
   "execution_count": 164,
   "id": "8e6985cc-6702-4f6a-96ac-24c6c97f403c",
   "metadata": {},
   "outputs": [
    {
     "name": "stdout",
     "output_type": "stream",
     "text": [
      "['Thank you for the music', 'Welcome to the jungle']\n"
     ]
    }
   ],
   "source": [
    "txt = \"Thank you for the music\\nWelcome to the jungle\"\n",
    "\n",
    "x = txt.splitlines()\n",
    "\n",
    "print(x)"
   ]
  },
  {
   "cell_type": "markdown",
   "id": "8d74c8b3-6629-4131-b57d-0b8920644ba4",
   "metadata": {},
   "source": [
    "### 38.startswith() //Check if the string starts with \"Hello\":"
   ]
  },
  {
   "cell_type": "code",
   "execution_count": 169,
   "id": "02e347fa-b01c-411f-9bb4-ceafa44b65a6",
   "metadata": {},
   "outputs": [
    {
     "name": "stdout",
     "output_type": "stream",
     "text": [
      "True\n"
     ]
    }
   ],
   "source": [
    "txt = \"Hello, welcome to my world.\"\n",
    "\n",
    "x = txt.startswith(\"Hello\")\n",
    "\n",
    "print(x)"
   ]
  },
  {
   "cell_type": "markdown",
   "id": "851e4606-b783-4a3d-b349-5645e3d1b7e7",
   "metadata": {},
   "source": [
    "### 39.strip()  //Remove spaces at the beginning and at the end of the string:"
   ]
  },
  {
   "cell_type": "code",
   "execution_count": 172,
   "id": "6e4b2433-9b6a-4d9a-a982-092c883600d7",
   "metadata": {},
   "outputs": [
    {
     "name": "stdout",
     "output_type": "stream",
     "text": [
      "of all fruits banana is my favorite\n"
     ]
    }
   ],
   "source": [
    "txt = \"     banana     \"\n",
    "\n",
    "x = txt.strip()\n",
    "\n",
    "print(\"of all fruits\", x, \"is my favorite\")"
   ]
  },
  {
   "cell_type": "markdown",
   "id": "068243d4-331e-46ad-a93c-fd136bcf6e99",
   "metadata": {},
   "source": [
    "### 40.swapcase() //Make the lower case letters upper case and the upper case letters lower case:"
   ]
  },
  {
   "cell_type": "code",
   "execution_count": 175,
   "id": "3b175471-be2f-4f20-be8b-69a3487047a3",
   "metadata": {},
   "outputs": [
    {
     "name": "stdout",
     "output_type": "stream",
     "text": [
      "hELLO mY nAME iS peter\n"
     ]
    }
   ],
   "source": [
    "txt = \"Hello My Name Is PETER\"\n",
    "\n",
    "x = txt.swapcase()\n",
    "\n",
    "print(x)"
   ]
  },
  {
   "cell_type": "markdown",
   "id": "4f5129f3-d001-4745-b8be-2770c19be710",
   "metadata": {},
   "source": [
    "### 41.title() //Make the first letter in each word upper case:"
   ]
  },
  {
   "cell_type": "code",
   "execution_count": 178,
   "id": "ef31e6d5-226f-43a7-8b8d-c1c3f5a25a42",
   "metadata": {},
   "outputs": [
    {
     "name": "stdout",
     "output_type": "stream",
     "text": [
      "Welcome To My World\n"
     ]
    }
   ],
   "source": [
    "txt = \"Welcome to my world\"\n",
    "\n",
    "x = txt.title()\n",
    "\n",
    "print(x)"
   ]
  },
  {
   "cell_type": "markdown",
   "id": "d6a00c9c-278c-48d4-8129-630a17d8b8a7",
   "metadata": {},
   "source": [
    "### 42.translate() //Replace any \"S\" characters with a \"P\" character:"
   ]
  },
  {
   "cell_type": "code",
   "execution_count": 181,
   "id": "927f3c66-a1e4-469d-8c75-ba3ebea29d11",
   "metadata": {},
   "outputs": [
    {
     "name": "stdout",
     "output_type": "stream",
     "text": [
      "Hello Pam!\n"
     ]
    }
   ],
   "source": [
    "#use a dictionary with ascii codes to replace 83 (S) with 80 (P):\n",
    "mydict = {83:  80}\n",
    "txt = \"Hello Sam!\"\n",
    "print(txt.translate(mydict))"
   ]
  },
  {
   "cell_type": "markdown",
   "id": "51704264-f986-4544-8a0d-04f2b27bb740",
   "metadata": {},
   "source": [
    "### 43.upper() //Upper case the string:"
   ]
  },
  {
   "cell_type": "code",
   "execution_count": 184,
   "id": "5b9eef11-8333-4fb2-9c3c-f9cb49c51f7c",
   "metadata": {},
   "outputs": [
    {
     "name": "stdout",
     "output_type": "stream",
     "text": [
      "HELLO MY FRIENDS\n"
     ]
    }
   ],
   "source": [
    "txt = \"Hello my friends\"\n",
    "\n",
    "x = txt.upper()\n",
    "\n",
    "print(x)"
   ]
  },
  {
   "cell_type": "markdown",
   "id": "fc878ccb-87f3-4967-8d30-7b30e8042cd8",
   "metadata": {},
   "source": [
    "### 44.zfill() //Fill the string with zeros until it is 10 characters long:"
   ]
  },
  {
   "cell_type": "code",
   "execution_count": 189,
   "id": "56a18bbb-1248-458e-b5c5-215da66b625a",
   "metadata": {},
   "outputs": [
    {
     "name": "stdout",
     "output_type": "stream",
     "text": [
      "0000000050\n"
     ]
    }
   ],
   "source": [
    "txt = \"50\"\n",
    "\n",
    "x = txt.zfill(10)\n",
    "\n",
    "print(x)"
   ]
  },
  {
   "cell_type": "code",
   "execution_count": null,
   "id": "b49d7ebe-d752-4450-99a1-d880891ed1ea",
   "metadata": {},
   "outputs": [],
   "source": []
  }
 ],
 "metadata": {
  "kernelspec": {
   "display_name": "Python 3 (ipykernel)",
   "language": "python",
   "name": "python3"
  },
  "language_info": {
   "codemirror_mode": {
    "name": "ipython",
    "version": 3
   },
   "file_extension": ".py",
   "mimetype": "text/x-python",
   "name": "python",
   "nbconvert_exporter": "python",
   "pygments_lexer": "ipython3",
   "version": "3.12.4"
  }
 },
 "nbformat": 4,
 "nbformat_minor": 5
}
