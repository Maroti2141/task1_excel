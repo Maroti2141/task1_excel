{
 "cells": [
  {
   "cell_type": "markdown",
   "id": "34aead75-d68a-4c99-b218-f0e528fa7a1a",
   "metadata": {},
   "source": [
    "# Python Dictionary Method\n",
    "* https://www.w3schools.com/python/python_ref_dictionary.asp"
   ]
  },
  {
   "cell_type": "markdown",
   "id": "1a1af726-33db-4d0c-80bb-b89f1edadad5",
   "metadata": {},
   "source": [
    "### 1.clear() : Removes all items from the dictionary"
   ]
  },
  {
   "cell_type": "code",
   "execution_count": 5,
   "id": "57ea0bba-08d6-413d-927c-663dcdfca232",
   "metadata": {},
   "outputs": [
    {
     "name": "stdout",
     "output_type": "stream",
     "text": [
      "{}\n"
     ]
    }
   ],
   "source": [
    "car = {\n",
    "  \"brand\": \"Ford\",\n",
    "  \"model\": \"Mustang\",\n",
    "  \"year\": 1964\n",
    "}\n",
    "\n",
    "car.clear()\n",
    "\n",
    "print(car)"
   ]
  },
  {
   "cell_type": "markdown",
   "id": "d206b9e8-aa97-43e1-9c0e-987eaeaa0fa1",
   "metadata": {},
   "source": [
    " ### 2.copy() : Returns a shallow copy of the dictionary"
   ]
  },
  {
   "cell_type": "code",
   "execution_count": 14,
   "id": "2a45c58b-c9ab-4f9d-96a7-2ddaed5adc99",
   "metadata": {},
   "outputs": [
    {
     "name": "stdout",
     "output_type": "stream",
     "text": [
      "{'brand': 'Ford', 'model': 'Mustang', 'year': 1964}\n"
     ]
    }
   ],
   "source": [
    "car = {\n",
    "  \"brand\": \"Ford\",\n",
    "  \"model\": \"Mustang\",\n",
    "  \"year\": 1964\n",
    "}\n",
    "\n",
    "x = car.copy()\n",
    "\n",
    "print(x)"
   ]
  },
  {
   "cell_type": "markdown",
   "id": "fc95fa5d-7f14-444a-86e4-36f77e093107",
   "metadata": {},
   "source": [
    "### 3.fromkeys(): Creates a dictionary from the given sequence"
   ]
  },
  {
   "cell_type": "code",
   "execution_count": 17,
   "id": "f2c79b2c-0ac4-4791-8aa1-e4cb897d7377",
   "metadata": {},
   "outputs": [
    {
     "name": "stdout",
     "output_type": "stream",
     "text": [
      "{'key1': 0, 'key2': 0, 'key3': 0}\n"
     ]
    }
   ],
   "source": [
    "x = ('key1', 'key2', 'key3')\n",
    "y = 0\n",
    "\n",
    "thisdict = dict.fromkeys(x, y)\n",
    "\n",
    "print(thisdict)"
   ]
  },
  {
   "cell_type": "markdown",
   "id": "9e522d6c-f7ac-4b1c-95ea-65e53312b64d",
   "metadata": {},
   "source": [
    "### 4.get() : Returns the value for the given key"
   ]
  },
  {
   "cell_type": "code",
   "execution_count": 22,
   "id": "0e0e21f7-29e8-4d3c-9f47-132399e2655f",
   "metadata": {},
   "outputs": [
    {
     "name": "stdout",
     "output_type": "stream",
     "text": [
      "Mustang\n"
     ]
    }
   ],
   "source": [
    "car = {\n",
    "  \"brand\": \"Ford\",\n",
    "  \"model\": \"Mustang\",\n",
    "  \"year\": 1964\n",
    "}\n",
    "\n",
    "x = car.get(\"model\")\n",
    "\n",
    "print(x)"
   ]
  },
  {
   "cell_type": "markdown",
   "id": "72315cfe-b8b8-4ce6-85a9-12d3cc9968ac",
   "metadata": {},
   "source": [
    "### 5.items(): Return the list with all dictionary keys with values"
   ]
  },
  {
   "cell_type": "code",
   "execution_count": 25,
   "id": "b216623c-7fd4-464f-8c5d-e83f828161f4",
   "metadata": {},
   "outputs": [
    {
     "name": "stdout",
     "output_type": "stream",
     "text": [
      "dict_items([('brand', 'Ford'), ('model', 'Mustang'), ('year', 1964)])\n"
     ]
    }
   ],
   "source": [
    "car = {\n",
    "  \"brand\": \"Ford\",\n",
    "  \"model\": \"Mustang\",\n",
    "  \"year\": 1964\n",
    "}\n",
    "\n",
    "x = car.items()\n",
    "\n",
    "print(x)"
   ]
  },
  {
   "cell_type": "markdown",
   "id": "55eb8680-a2a0-478e-a37f-7483f3a7362d",
   "metadata": {},
   "source": [
    "### 6.keys(): Returns a view object that displays a list of all the keys in the dictionary in order of insertion"
   ]
  },
  {
   "cell_type": "code",
   "execution_count": 28,
   "id": "9f2deedc-45ff-4f1e-b5dd-845aa32d62c2",
   "metadata": {},
   "outputs": [
    {
     "name": "stdout",
     "output_type": "stream",
     "text": [
      "dict_keys(['brand', 'model', 'year'])\n"
     ]
    }
   ],
   "source": [
    "car = {\n",
    "  \"brand\": \"Ford\",\n",
    "  \"model\": \"Mustang\",\n",
    "  \"year\": 1964\n",
    "}\n",
    "\n",
    "x = car.keys()\n",
    "\n",
    "print(x)"
   ]
  },
  {
   "cell_type": "markdown",
   "id": "b4f4e789-5d6a-4ecb-bed5-c1782ca2508e",
   "metadata": {},
   "source": [
    "### 7.pop() : Returns and removes the element with the given key"
   ]
  },
  {
   "cell_type": "code",
   "execution_count": 31,
   "id": "41f12a89-59f0-41cc-a8b7-7edc9e03036c",
   "metadata": {},
   "outputs": [
    {
     "name": "stdout",
     "output_type": "stream",
     "text": [
      "{'brand': 'Ford', 'year': 1964}\n"
     ]
    }
   ],
   "source": [
    "car = {\n",
    "  \"brand\": \"Ford\",\n",
    "  \"model\": \"Mustang\",\n",
    "  \"year\": 1964\n",
    "}\n",
    "\n",
    "car.pop(\"model\")\n",
    "\n",
    "print(car)"
   ]
  },
  {
   "cell_type": "markdown",
   "id": "1b2d0947-86f7-4b9f-9b31-3e2e5fa5860d",
   "metadata": {},
   "source": [
    "### 8.popitem() : Returns and removes the last iteam key-value pair from the dictionary"
   ]
  },
  {
   "cell_type": "code",
   "execution_count": 34,
   "id": "e2379d01-cb23-4441-a0a7-c2b3a2cb3425",
   "metadata": {},
   "outputs": [
    {
     "name": "stdout",
     "output_type": "stream",
     "text": [
      "{'brand': 'Ford', 'model': 'Mustang'}\n"
     ]
    }
   ],
   "source": [
    "car = {\n",
    "  \"brand\": \"Ford\",\n",
    "  \"model\": \"Mustang\",\n",
    "  \"year\": 1964\n",
    "}\n",
    "\n",
    "car.popitem()\n",
    "\n",
    "print(car)"
   ]
  },
  {
   "cell_type": "markdown",
   "id": "e35b3249-8752-4831-9f9a-bfcb8708761a",
   "metadata": {},
   "source": [
    "### 9.setdefault() : Returns the value of a key if the key is in the dictionary else inserts the key with a value to the dictionary"
   ]
  },
  {
   "cell_type": "code",
   "execution_count": 42,
   "id": "4e646017-f585-4a66-ac40-84d0d4eac818",
   "metadata": {},
   "outputs": [
    {
     "name": "stdout",
     "output_type": "stream",
     "text": [
      "white\n"
     ]
    }
   ],
   "source": [
    "car = {\n",
    "  \"brand\": \"Ford\",\n",
    "  \"model\": \"Mustang\",\n",
    "  \"year\": 1964\n",
    "}\n",
    "\n",
    "x = car.setdefault(\"color\", \"white\")\n",
    "\n",
    "print(x)"
   ]
  },
  {
   "cell_type": "code",
   "execution_count": 51,
   "id": "c5132a45-5696-4d1f-a8ed-15ff9757728e",
   "metadata": {},
   "outputs": [
    {
     "name": "stdout",
     "output_type": "stream",
     "text": [
      "Mustang\n"
     ]
    }
   ],
   "source": [
    "car = {\n",
    "  \"brand\": \"Ford\",\n",
    "  \"model\": \"Mustang\",\n",
    "  \"year\": 1964\n",
    "}\n",
    "\n",
    "x = car.setdefault(\"model\", \"Bronco\")\n",
    "\n",
    "print(x)"
   ]
  },
  {
   "cell_type": "markdown",
   "id": "6b29e95c-90c4-4d5a-a27a-9dfa28028071",
   "metadata": {},
   "source": [
    "### 10.values() : Returns a view object containing all dictionary values, which can be accessed and iterated through efficiently"
   ]
  },
  {
   "cell_type": "code",
   "execution_count": 71,
   "id": "bce7ea39-cd27-41f9-8ad2-00fe69d9394a",
   "metadata": {},
   "outputs": [
    {
     "name": "stdout",
     "output_type": "stream",
     "text": [
      "dict_values(['Ford', 'Mustang', 1964])\n"
     ]
    }
   ],
   "source": [
    "car = {\n",
    "  \"brand\": \"Ford\",\n",
    "  \"model\": \"Mustang\",\n",
    "  \"year\": 1964\n",
    "}\n",
    "\n",
    "x = car.values()\n",
    "\n",
    "print(x)"
   ]
  },
  {
   "cell_type": "markdown",
   "id": "b05fe8b6-bba2-441d-94a8-df2b63d1a123",
   "metadata": {},
   "source": [
    "### 11.update():Updates the dictionary with the elements from another dictionary or an iterable of key-value pairs. With this method, you can include new data or merge it with existing dictionary entries"
   ]
  },
  {
   "cell_type": "code",
   "execution_count": 74,
   "id": "02371863-e65c-49f8-b48d-5807828001a7",
   "metadata": {},
   "outputs": [
    {
     "name": "stdout",
     "output_type": "stream",
     "text": [
      "{'brand': 'Ford', 'model': 'Mustang', 'year': 1964, 'color': 'White'}\n"
     ]
    }
   ],
   "source": [
    "car = {\n",
    "  \"brand\": \"Ford\",\n",
    "  \"model\": \"Mustang\",\n",
    "  \"year\": 1964\n",
    "}\n",
    "\n",
    "car.update({\"color\": \"White\"})\n",
    "\n",
    "print(car)"
   ]
  },
  {
   "cell_type": "markdown",
   "id": "ab4aaae9-1d5e-48aa-af79-ce510c5dd4ca",
   "metadata": {},
   "source": [
    "# craete 10 if/else with input code\n",
    "* https://www.geeksforgeeks.org/python-if-else/"
   ]
  },
  {
   "cell_type": "markdown",
   "id": "f47f2f6f-0d79-4d88-b046-cae2d84fb809",
   "metadata": {},
   "source": [
    "### 1)"
   ]
  },
  {
   "cell_type": "code",
   "execution_count": 81,
   "id": "d8602427-0f94-4a49-9b7e-e9381463a872",
   "metadata": {},
   "outputs": [
    {
     "name": "stdout",
     "output_type": "stream",
     "text": [
      "b is greater than a\n"
     ]
    }
   ],
   "source": [
    "a = 33\n",
    "b = 200\n",
    "if b > a:\n",
    "  print(\"b is greater than a\")"
   ]
  },
  {
   "cell_type": "markdown",
   "id": "b8cd0c4d-937b-4b1f-a052-ae0d33df9268",
   "metadata": {},
   "source": [
    "### 2)"
   ]
  },
  {
   "cell_type": "code",
   "execution_count": 86,
   "id": "2e70b577-e304-4452-85a7-0809d27171ce",
   "metadata": {},
   "outputs": [
    {
     "name": "stdout",
     "output_type": "stream",
     "text": [
      "I am Not in if\n"
     ]
    }
   ],
   "source": [
    "# python program to illustrate If statement\n",
    "i = 10\n",
    "\n",
    "if (i > 15):\n",
    "    print(\"10 is less than 15\")\n",
    "print(\"I am Not in if\")"
   ]
  },
  {
   "cell_type": "markdown",
   "id": "336e9d16-fa6e-4215-a21f-4898e04c96c3",
   "metadata": {},
   "source": [
    "### 3)"
   ]
  },
  {
   "cell_type": "code",
   "execution_count": 90,
   "id": "dcc1c3a4-1bcb-4a41-8b61-dbf9a25ad9bc",
   "metadata": {},
   "outputs": [
    {
     "name": "stdout",
     "output_type": "stream",
     "text": [
      "i is greater than 15\n",
      "i'm in else Block\n",
      "i'm not in if and not in else Block\n"
     ]
    }
   ],
   "source": [
    "i = 20\n",
    "if (i < 15):\n",
    "    print(\"i is smaller than 15\")\n",
    "    print(\"i'm in if Block\")\n",
    "else:\n",
    "    print(\"i is greater than 15\")\n",
    "    print(\"i'm in else Block\")\n",
    "print(\"i'm not in if and not in else Block\")"
   ]
  },
  {
   "cell_type": "markdown",
   "id": "b64aec94-b786-49e2-be70-a54cc5030a36",
   "metadata": {},
   "source": [
    "### 4)"
   ]
  },
  {
   "cell_type": "code",
   "execution_count": 94,
   "id": "ac8187f5-136c-467c-af8d-dee7835b4449",
   "metadata": {},
   "outputs": [
    {
     "name": "stdout",
     "output_type": "stream",
     "text": [
      "[16, 3, 18, 18]\n"
     ]
    }
   ],
   "source": [
    "# Explicit function\n",
    "def digitSum(n):\n",
    "    dsum = 0\n",
    "    for ele in str(n):\n",
    "        dsum += int(ele)\n",
    "    return dsum\n",
    "\n",
    "\n",
    "# Initializing list\n",
    "List = [367, 111, 562, 945, 6726, 873]\n",
    "\n",
    "# Using the function on odd elements of the list\n",
    "newList = [digitSum(i) for i in List if i & 1]\n",
    "\n",
    "# Displaying new list\n",
    "print(newList)"
   ]
  },
  {
   "cell_type": "markdown",
   "id": "ca6dab9f-ce31-45d8-99f5-05552cffa50f",
   "metadata": {},
   "source": [
    "### 5)"
   ]
  },
  {
   "cell_type": "code",
   "execution_count": 99,
   "id": "4fb986a8-93bd-4fd7-8657-f1c504ff0998",
   "metadata": {},
   "outputs": [
    {
     "name": "stdout",
     "output_type": "stream",
     "text": [
      "i is smaller than 15\n",
      "i is smaller than 12 too\n"
     ]
    }
   ],
   "source": [
    "# python program to illustrate nested If statement\n",
    "\n",
    "i = 10\n",
    "if (i == 10):\n",
    "  \n",
    "    #  First if statement\n",
    "    if (i < 15):\n",
    "        print(\"i is smaller than 15\")\n",
    "        \n",
    "    # Nested - if statement\n",
    "    # Will only be executed if statement above\n",
    "    # it is true\n",
    "    if (i < 12):\n",
    "        print(\"i is smaller than 12 too\")\n",
    "    else:\n",
    "        print(\"i is greater than 15\")"
   ]
  },
  {
   "cell_type": "markdown",
   "id": "3bfa7510-da5c-456a-8acb-0e45af6ed47d",
   "metadata": {},
   "source": [
    "### 6) "
   ]
  },
  {
   "cell_type": "code",
   "execution_count": 104,
   "id": "80a35ca3-0bc0-4619-a550-776c2ba652de",
   "metadata": {},
   "outputs": [
    {
     "name": "stdout",
     "output_type": "stream",
     "text": [
      "i is not present\n"
     ]
    }
   ],
   "source": [
    "# Python program to illustrate if-elif-else ladder\n",
    "#!/usr/bin/python\n",
    "\n",
    "i = 25\n",
    "if (i == 10):\n",
    "    print(\"i is 10\")\n",
    "elif (i == 15):\n",
    "    print(\"i is 15\")\n",
    "elif (i == 20):\n",
    "    print(\"i is 20\")\n",
    "else:\n",
    "    print(\"i is not present\")"
   ]
  },
  {
   "cell_type": "markdown",
   "id": "6f8453d8-388a-4fab-973e-efb507d87424",
   "metadata": {},
   "source": [
    "### 7)"
   ]
  },
  {
   "cell_type": "code",
   "execution_count": 107,
   "id": "d45c9364-7713-46ef-a4a0-1ead88cac826",
   "metadata": {},
   "outputs": [
    {
     "name": "stdout",
     "output_type": "stream",
     "text": [
      "i is less than 15\n"
     ]
    }
   ],
   "source": [
    "# Python program to illustrate short hand if\n",
    "i = 10\n",
    "if i < 15: print(\"i is less than 15\")"
   ]
  },
  {
   "cell_type": "markdown",
   "id": "dae85777-488e-4e43-8541-506dc6a58e8f",
   "metadata": {},
   "source": [
    "### 8)"
   ]
  },
  {
   "cell_type": "code",
   "execution_count": 111,
   "id": "41ab6bea-9ec2-4295-9a08-5bf0ccb99df6",
   "metadata": {},
   "outputs": [
    {
     "name": "stdout",
     "output_type": "stream",
     "text": [
      "True\n"
     ]
    }
   ],
   "source": [
    "# Python program to illustrate short hand if-else\n",
    "i = 10\n",
    "print(True) if i < 15 else print(False)"
   ]
  },
  {
   "cell_type": "markdown",
   "id": "7d0373a8-3443-483c-8d55-06e9b3071f74",
   "metadata": {},
   "source": [
    "### 9) "
   ]
  },
  {
   "cell_type": "code",
   "execution_count": 117,
   "id": "39d4214a-0788-4e6d-adbe-5deeae2720a3",
   "metadata": {},
   "outputs": [
    {
     "name": "stdout",
     "output_type": "stream",
     "text": [
      "x is greater than 5\n"
     ]
    }
   ],
   "source": [
    "x = 10\n",
    "if x > 5:\n",
    "    print(\"x is greater than 5\")\n",
    "else:\n",
    "    print(\"x is not greater than 5\")"
   ]
  },
  {
   "cell_type": "markdown",
   "id": "babace1b-435a-4b95-9010-c049d261d014",
   "metadata": {},
   "source": [
    "### 10)"
   ]
  },
  {
   "cell_type": "code",
   "execution_count": 120,
   "id": "f0f0464c-236f-46bf-892f-c297b8335876",
   "metadata": {},
   "outputs": [
    {
     "name": "stdout",
     "output_type": "stream",
     "text": [
      "x is greater than 5 but not greater than 15\n"
     ]
    }
   ],
   "source": [
    "x = 10\n",
    "if x > 15:\n",
    "    print(\"x is greater than 15\")\n",
    "elif x > 5:\n",
    "    print(\"x is greater than 5 but not greater than 15\")\n",
    "else:\n",
    "    print(\"x is 5 or less\")"
   ]
  },
  {
   "cell_type": "markdown",
   "id": "04748df8-f45f-4d76-9ed6-9aa23a4d2ad0",
   "metadata": {},
   "source": [
    "### 11)"
   ]
  },
  {
   "cell_type": "code",
   "execution_count": 124,
   "id": "53dea20f-9706-4db1-b962-ded615a30f35",
   "metadata": {},
   "outputs": [
    {
     "name": "stdin",
     "output_type": "stream",
     "text": [
      "Enter a number:  24\n"
     ]
    },
    {
     "name": "stdout",
     "output_type": "stream",
     "text": [
      "24 is a positive number.\n",
      "A statement outside the if statement.\n"
     ]
    }
   ],
   "source": [
    "number = int(input('Enter a number: '))\n",
    "\n",
    "# check if number is greater than 0\n",
    "if number > 0:\n",
    "    print(f'{number} is a positive number.')\n",
    "\n",
    "print('A statement outside the if statement.')"
   ]
  },
  {
   "cell_type": "markdown",
   "id": "462ea837-b67a-433a-b9be-c19a502d4e06",
   "metadata": {},
   "source": [
    "### 12)"
   ]
  },
  {
   "cell_type": "code",
   "execution_count": 128,
   "id": "119be139-c2ae-4610-bb47-537d0da8bb19",
   "metadata": {},
   "outputs": [
    {
     "name": "stdout",
     "output_type": "stream",
     "text": [
      "1\n",
      "This is always executed.\n"
     ]
    }
   ],
   "source": [
    "x = 1\n",
    "total = 0\n",
    "\n",
    "# start of the if statement\n",
    "if x != 0:\n",
    "    total += x\n",
    "    print(total)  \n",
    "# end of the if statement\n",
    "\n",
    "print(\"This is always executed.\")"
   ]
  },
  {
   "cell_type": "markdown",
   "id": "f637a93c-7d6c-4e16-8c50-e4f069fa6b6d",
   "metadata": {},
   "source": [
    "### 13)"
   ]
  },
  {
   "cell_type": "code",
   "execution_count": 135,
   "id": "645376d9-ce0f-4970-a33d-25e51f17f7d1",
   "metadata": {},
   "outputs": [
    {
     "name": "stdin",
     "output_type": "stream",
     "text": [
      "Enter a number:  100\n"
     ]
    },
    {
     "name": "stdout",
     "output_type": "stream",
     "text": [
      "Positive number\n",
      "This statement always executes\n"
     ]
    }
   ],
   "source": [
    "number = int(input('Enter a number: '))\n",
    "\n",
    "if number > 0:\n",
    "    print('Positive number')\n",
    "else:\n",
    "    print('Not a positive number')\n",
    "\n",
    "print('This statement always executes')"
   ]
  },
  {
   "cell_type": "markdown",
   "id": "95f325c3-ccae-43ec-a32e-bfe161bd492e",
   "metadata": {},
   "source": [
    "### 14)"
   ]
  },
  {
   "cell_type": "code",
   "execution_count": 137,
   "id": "b501ed2e-b5fd-4ad8-9843-5d69bf16fc72",
   "metadata": {},
   "outputs": [
    {
     "name": "stdout",
     "output_type": "stream",
     "text": [
      "Negative number\n",
      "This statement is always executed\n"
     ]
    }
   ],
   "source": [
    "number = -5\n",
    "\n",
    "if number > 0:\n",
    "    print('Positive number')\n",
    "\n",
    "elif number < 0:\n",
    "    print('Negative number')\n",
    "\n",
    "else:\n",
    "    print('Zero')\n",
    "\n",
    "print('This statement is always executed')"
   ]
  },
  {
   "cell_type": "markdown",
   "id": "7e3a52bf-9c7a-423f-9440-01a1c05acc53",
   "metadata": {},
   "source": [
    "### 15)"
   ]
  },
  {
   "cell_type": "code",
   "execution_count": 141,
   "id": "2b89adb1-99a2-408b-af0d-be3d5a4d8963",
   "metadata": {},
   "outputs": [
    {
     "name": "stdout",
     "output_type": "stream",
     "text": [
      "Number is positive\n"
     ]
    }
   ],
   "source": [
    "number = 5\n",
    "\n",
    "# outer if statement\n",
    "if number >= 0:\n",
    "    # inner if statement\n",
    "    if number == 0:\n",
    "      print('Number is 0')\n",
    "    \n",
    "    # inner else statement\n",
    "    else:\n",
    "        print('Number is positive')\n",
    "\n",
    "# outer else statement\n",
    "else:\n",
    "    print('Number is negative')\n",
    "    "
   ]
  },
  {
   "cell_type": "code",
   "execution_count": null,
   "id": "be8b3c7e-dff4-4c44-8b48-797248deb2f8",
   "metadata": {},
   "outputs": [],
   "source": []
  }
 ],
 "metadata": {
  "kernelspec": {
   "display_name": "Python 3 (ipykernel)",
   "language": "python",
   "name": "python3"
  },
  "language_info": {
   "codemirror_mode": {
    "name": "ipython",
    "version": 3
   },
   "file_extension": ".py",
   "mimetype": "text/x-python",
   "name": "python",
   "nbconvert_exporter": "python",
   "pygments_lexer": "ipython3",
   "version": "3.12.4"
  }
 },
 "nbformat": 4,
 "nbformat_minor": 5
}
