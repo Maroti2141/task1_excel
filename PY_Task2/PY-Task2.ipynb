{
 "cells": [
  {
   "cell_type": "markdown",
   "id": "14a959f0-57f2-4eb5-ab6f-ef1af746d60d",
   "metadata": {},
   "source": [
    "# Python List method"
   ]
  },
  {
   "cell_type": "markdown",
   "id": "b1a716cc-f605-4b21-ada6-f806caf16387",
   "metadata": {},
   "source": [
    "### 1.Python list append() method is used to add elements at the end of the list."
   ]
  },
  {
   "cell_type": "code",
   "execution_count": 3,
   "id": "17faeda3-9832-42cb-a224-61030f414676",
   "metadata": {},
   "outputs": [
    {
     "name": "stdout",
     "output_type": "stream",
     "text": [
      "[2, 5, 6, 7, 8]\n"
     ]
    }
   ],
   "source": [
    "list=[2,5,6,7] \n",
    "list.append(8) \n",
    "print(list)"
   ]
  },
  {
   "cell_type": "markdown",
   "id": "c6f40ae8-fd5f-4e47-99e5-77e4ee945675",
   "metadata": {},
   "source": [
    "### 2.copy in Python (Deep Copy and Shallow Copy)"
   ]
  },
  {
   "cell_type": "code",
   "execution_count": 10,
   "id": "2dd5174d-825c-4249-843a-316bc71ef6e5",
   "metadata": {},
   "outputs": [
    {
     "name": "stdout",
     "output_type": "stream",
     "text": [
      "li2 ID:  2225761274560 Value:  [1, 2, [3, 5], 4]\n",
      "li3 ID:  2225801211648 Value:  [1, 2, [3, 5], 4]\n"
     ]
    }
   ],
   "source": [
    "import copy\n",
    "li1 = [1, 2, [3, 5], 4]\n",
    "li2 = copy.copy(li1)\n",
    "print(\"li2 ID: \", id(li2), \"Value: \", li2)\n",
    "li3 = copy.deepcopy(li1)\n",
    "print(\"li3 ID: \", id(li3), \"Value: \", li3)"
   ]
  },
  {
   "cell_type": "markdown",
   "id": "b93ffcf7-9bbd-4065-98eb-9ddc1ffa08a9",
   "metadata": {},
   "source": [
    "### 3.Python List clear() method removes all items from the List making it an empty/null list."
   ]
  },
  {
   "cell_type": "code",
   "execution_count": 13,
   "id": "09111e39-4de3-428e-a310-860e2977e0ca",
   "metadata": {},
   "outputs": [
    {
     "name": "stdout",
     "output_type": "stream",
     "text": [
      "[]\n"
     ]
    }
   ],
   "source": [
    "lis = [1, 2, 3]\n",
    "lis.clear()\n",
    "print(lis)"
   ]
  },
  {
   "cell_type": "markdown",
   "id": "a3de9fcd-7d05-4894-a143-f695e855ad60",
   "metadata": {},
   "source": [
    "### 4.Python List count() method returns the count of the occurrences of a given element in a list."
   ]
  },
  {
   "cell_type": "code",
   "execution_count": 22,
   "id": "39acc956-eaaf-4ff9-8ec3-baac3927cf11",
   "metadata": {},
   "outputs": [
    {
     "name": "stdout",
     "output_type": "stream",
     "text": [
      "1\n"
     ]
    }
   ],
   "source": [
    "#create a list\n",
    "fruits = [\"Apple\", \"Mango\", \"Banana\", \"Cherry\" , \"Papaya\"]\n",
    "# printing count using count() function\n",
    "print(fruits.count(\"Apple\"))"
   ]
  },
  {
   "cell_type": "markdown",
   "id": "b3db5528-8f0d-4783-bf90-8b16c580afa2",
   "metadata": {},
   "source": [
    "### 5.The Python List extend() method adds items of an iterable (list, tuple, dictionary, etc) at the end of a list."
   ]
  },
  {
   "cell_type": "code",
   "execution_count": 25,
   "id": "6f1e8840-5deb-48ec-90bf-dfcdc762d214",
   "metadata": {},
   "outputs": [
    {
     "name": "stdout",
     "output_type": "stream",
     "text": [
      "['Audi', 'BMW', 'Jaguar', 'Maruti', 'Tata']\n"
     ]
    }
   ],
   "source": [
    "cars = [\"Audi\",\"BMW\",\"Jaguar\"]\n",
    "other_cars = [\"Maruti\", \"Tata\"]\n",
    "cars.extend(other_cars)\n",
    "print(cars)"
   ]
  },
  {
   "cell_type": "markdown",
   "id": "6e13beef-c1a0-4132-a610-b3eef8f91cc2",
   "metadata": {},
   "source": [
    "### 6.List index() method searches for a given element from the start of the list and returns the position of the first occurrence."
   ]
  },
  {
   "cell_type": "code",
   "execution_count": 28,
   "id": "0e2fdd52-0caa-4c66-8961-a8441d8b25a2",
   "metadata": {},
   "outputs": [
    {
     "name": "stdout",
     "output_type": "stream",
     "text": [
      "1\n"
     ]
    }
   ],
   "source": [
    "# list of animals\n",
    "Animals= [\"cat\", \"dog\", \"tiger\"]\n",
    "# searching positiion of dog\n",
    "print(Animals.index(\"dog\"))"
   ]
  },
  {
   "cell_type": "markdown",
   "id": "7aa430f8-f997-4f1f-a1fb-509bb3887cbb",
   "metadata": {},
   "source": [
    "### 7.Python List insert() method inserts an item at a specific index in a list."
   ]
  },
  {
   "cell_type": "code",
   "execution_count": 32,
   "id": "b5f66b58-c3a6-4ec7-aa4e-9e8e663833ea",
   "metadata": {},
   "outputs": [
    {
     "name": "stdout",
     "output_type": "stream",
     "text": [
      "['banana', 'apple', 'cherry', 'grape']\n"
     ]
    }
   ],
   "source": [
    "# creating a list\n",
    "fruit = [\"banana\",\"cherry\",\"grape\"]\n",
    "fruit.insert(1,\"apple\")\n",
    "print(fruit)"
   ]
  },
  {
   "cell_type": "markdown",
   "id": "f076afe5-ea65-4ddb-a38b-ac1fca77da46",
   "metadata": {},
   "source": [
    "### 8.Python list pop() function removes elements at a specific index from the list."
   ]
  },
  {
   "cell_type": "code",
   "execution_count": 35,
   "id": "c4764963-285f-4f9d-ae30-ec5596f5007c",
   "metadata": {},
   "outputs": [
    {
     "name": "stdout",
     "output_type": "stream",
     "text": [
      "['apple', 'mango']\n"
     ]
    }
   ],
   "source": [
    "fruits = [\"apple\", \"mango\", \"cherry\"]\n",
    "fruits.pop()\n",
    "print(fruits)"
   ]
  },
  {
   "cell_type": "markdown",
   "id": "78a2259e-385c-4578-976a-859cf97fa349",
   "metadata": {},
   "source": [
    "### 9.Python list remove() method removes a given element from the list."
   ]
  },
  {
   "cell_type": "code",
   "execution_count": 38,
   "id": "ae69556f-2538-4959-81d9-6cd37182d845",
   "metadata": {},
   "outputs": [
    {
     "name": "stdout",
     "output_type": "stream",
     "text": [
      "['a', 'c']\n"
     ]
    }
   ],
   "source": [
    "lis = ['a', 'b', 'c']\n",
    "lis.remove(\"b\")\n",
    "print(lis)"
   ]
  },
  {
   "cell_type": "markdown",
   "id": "17a54613-3a9e-4450-a157-942d3bb4194b",
   "metadata": {},
   "source": [
    "### 10.Python List reverse() is an inbuilt method in the Python programming language that reverses objects of the List in place i.e. it doesn’t use any extra space but it just modifies the original list."
   ]
  },
  {
   "cell_type": "code",
   "execution_count": 41,
   "id": "065849d5-0ba4-4a39-b84a-e441bb2707c5",
   "metadata": {},
   "outputs": [
    {
     "name": "stdout",
     "output_type": "stream",
     "text": [
      "[6, 2, 1, 4, 3, 2, 1]\n",
      "['a', 'a', 'd', 'c', 'b', 'a']\n"
     ]
    }
   ],
   "source": [
    "# Python3 program to demonstrate the \n",
    "# use of reverse method \n",
    "  \n",
    "# a list of numbers\n",
    "list1 = [1, 2, 3, 4, 1, 2, 6] \n",
    "list1.reverse() \n",
    "print(list1) \n",
    " \n",
    "# a list of characters\n",
    "list2 = ['a', 'b', 'c', 'd', 'a', 'a'] \n",
    "list2.reverse() \n",
    "print(list2)"
   ]
  },
  {
   "cell_type": "markdown",
   "id": "f841b899-c3b3-4f3f-b02b-f5b0afc4aed4",
   "metadata": {},
   "source": [
    "### 11.Python list sort() method sorts the elements of a list. It sorts in ascending order by default but can also sort values in descending order or in a custom manner using its parameters."
   ]
  },
  {
   "cell_type": "code",
   "execution_count": 44,
   "id": "531d57cf-1c6c-4f4a-8ee1-49a50166d784",
   "metadata": {},
   "outputs": [
    {
     "name": "stdout",
     "output_type": "stream",
     "text": [
      "['a', 'b', 'c', 'd', 'e']\n",
      "[1, 2, 3, 5, 6, 8]\n"
     ]
    }
   ],
   "source": [
    "alphabets = ['a','e','d','c','b']\n",
    "alphabets.sort()\n",
    "print(alphabets)\n",
    "\n",
    "random_numbers = [2,5,6,1,8,3]\n",
    "random_numbers.sort()\n",
    "print(random_numbers)"
   ]
  },
  {
   "cell_type": "markdown",
   "id": "7d83f630-f22a-4058-a021-6b344b8661f7",
   "metadata": {},
   "source": [
    "### 12.Python min() function returns the smallest of the values or the smallest item in an iterable passed as its parameter."
   ]
  },
  {
   "cell_type": "code",
   "execution_count": 47,
   "id": "ccccc7f1-c564-4fd5-8e8f-06b75c3008cc",
   "metadata": {},
   "outputs": [
    {
     "name": "stdout",
     "output_type": "stream",
     "text": [
      "21\n"
     ]
    }
   ],
   "source": [
    "numbers = [23,25,65,21,98]\n",
    "print(min(numbers))"
   ]
  },
  {
   "cell_type": "markdown",
   "id": "f62f1876-d63e-4181-969a-199489c67780",
   "metadata": {},
   "source": [
    "### 13.Python max() function returns the largest item in an iterable or the largest of two or more arguments."
   ]
  },
  {
   "cell_type": "code",
   "execution_count": 50,
   "id": "6047b19c-40e9-458e-be66-7197a2e43f78",
   "metadata": {},
   "outputs": [
    {
     "name": "stdout",
     "output_type": "stream",
     "text": [
      "8\n"
     ]
    }
   ],
   "source": [
    "var1 = 4\n",
    "var2 = 8\n",
    "var3 = 2\n",
    " \n",
    "max_val = max(var1, var2, var3)\n",
    "print(max_val)"
   ]
  },
  {
   "cell_type": "markdown",
   "id": "eedc6f32-aa7a-4825-b0a1-2ba05d736362",
   "metadata": {},
   "source": [
    "### 14.Python insert() Method"
   ]
  },
  {
   "cell_type": "code",
   "execution_count": 52,
   "id": "e550ddec-3f1a-45b7-9417-0bb15031a20b",
   "metadata": {},
   "outputs": [
    {
     "name": "stdout",
     "output_type": "stream",
     "text": [
      "['Mathematics', 'chemistry', 10087, 1997, 2000]\n"
     ]
    }
   ],
   "source": [
    "List = ['Mathematics', 'chemistry', 1997, 2000]\n",
    "# Insert at index 2 value 10087\n",
    "List.insert(2, 10087)\n",
    "print(List)"
   ]
  },
  {
   "cell_type": "markdown",
   "id": "dd175811-03f9-465b-885b-d37e56515560",
   "metadata": {},
   "source": [
    "### 15.Python extend() Method"
   ]
  },
  {
   "cell_type": "code",
   "execution_count": 59,
   "id": "e69d652f-d030-4b2c-b0ad-4ac944ea200c",
   "metadata": {},
   "outputs": [
    {
     "name": "stdout",
     "output_type": "stream",
     "text": [
      "[1, 2, 3, 2, 3, 4, 5]\n",
      "[2, 3, 4, 5, 1, 2, 3, 2, 3, 4, 5]\n"
     ]
    }
   ],
   "source": [
    "List1 = [1, 2, 3]\n",
    "List2 = [2, 3, 4, 5]\n",
    "\n",
    "# Add List2 to List1\n",
    "List1.extend(List2)\n",
    "print(List1)\n",
    "\n",
    "# Add List1 to List2 now\n",
    "List2.extend(List1)\n",
    "print(List2)"
   ]
  },
  {
   "cell_type": "markdown",
   "id": "c225efda-ad31-4274-988c-fc414b15431f",
   "metadata": {},
   "source": [
    "### 16.Python sum() Method"
   ]
  },
  {
   "cell_type": "code",
   "execution_count": 62,
   "id": "09cb7eb9-406e-4034-9c4b-5c1d3942a415",
   "metadata": {},
   "outputs": [
    {
     "name": "stdout",
     "output_type": "stream",
     "text": [
      "15\n"
     ]
    }
   ],
   "source": [
    "List = [1, 2, 3, 4, 5]\n",
    "print(sum(List))"
   ]
  },
  {
   "cell_type": "markdown",
   "id": "c7c40d61-7d3e-4e89-83e9-9a7948b1858c",
   "metadata": {},
   "source": [
    "### 17.Python count() Method"
   ]
  },
  {
   "cell_type": "code",
   "execution_count": 68,
   "id": "d03d7388-9bd5-4013-acf4-a8ea270adcbe",
   "metadata": {},
   "outputs": [
    {
     "name": "stdout",
     "output_type": "stream",
     "text": [
      "4\n"
     ]
    }
   ],
   "source": [
    "List = [1, 2, 3, 1, 2, 1, 2, 3, 2, 1]\n",
    "print(List.count(1))"
   ]
  },
  {
   "cell_type": "markdown",
   "id": "16107c31-2670-4c79-b8b6-907879fd7a0e",
   "metadata": {},
   "source": [
    "### 18.Python len() Method"
   ]
  },
  {
   "cell_type": "code",
   "execution_count": 71,
   "id": "baff961b-753f-4785-8b91-16befe4e289d",
   "metadata": {},
   "outputs": [
    {
     "name": "stdout",
     "output_type": "stream",
     "text": [
      "10\n"
     ]
    }
   ],
   "source": [
    "List = [1, 2, 3, 1, 2, 1, 2, 3, 2, 1]\n",
    "print(len(List))"
   ]
  },
  {
   "cell_type": "markdown",
   "id": "99d3b238-9296-49c8-b3c6-52f487d7de90",
   "metadata": {},
   "source": [
    "### 19.Python index() Method"
   ]
  },
  {
   "cell_type": "code",
   "execution_count": 74,
   "id": "50d4097c-ea64-4c6b-8b90-93b0aac55fd6",
   "metadata": {},
   "outputs": [
    {
     "name": "stdout",
     "output_type": "stream",
     "text": [
      "1\n"
     ]
    }
   ],
   "source": [
    "List = [1, 2, 3, 1, 2, 1, 2, 3, 2, 1]\n",
    "print(List.index(2))"
   ]
  },
  {
   "cell_type": "markdown",
   "id": "21f727eb-e3bd-4d8b-bfbe-5a8b07816f8f",
   "metadata": {},
   "source": [
    "### 20.Python min() Method"
   ]
  },
  {
   "cell_type": "code",
   "execution_count": 77,
   "id": "9158081d-b426-4edf-90f6-4ce6d802b98e",
   "metadata": {},
   "outputs": [
    {
     "name": "stdout",
     "output_type": "stream",
     "text": [
      "1\n"
     ]
    }
   ],
   "source": [
    "numbers = [5, 2, 8, 1, 9]\n",
    "print(min(numbers))"
   ]
  },
  {
   "cell_type": "markdown",
   "id": "fb32feda-2641-4d33-96ea-8b9d1e168a15",
   "metadata": {},
   "source": [
    "### 21.Python sort() Method"
   ]
  },
  {
   "cell_type": "code",
   "execution_count": 80,
   "id": "8bc4fe68-b697-41cc-a262-27cde630183f",
   "metadata": {},
   "outputs": [
    {
     "name": "stdout",
     "output_type": "stream",
     "text": [
      "[5.33, 4.445, 3, 2.5, 2.3, 1.054]\n"
     ]
    }
   ],
   "source": [
    "List = [2.3, 4.445, 3, 5.33, 1.054, 2.5]\n",
    "\n",
    "#Reverse flag is set True\n",
    "List.sort(reverse=True) \n",
    "\n",
    "#List.sort().reverse(), reverses the sorted list  \n",
    "print(List)   "
   ]
  },
  {
   "cell_type": "markdown",
   "id": "c7faa444-7893-42e3-9880-1216f21136a8",
   "metadata": {},
   "source": [
    "### 22.Python reverse() Method"
   ]
  },
  {
   "cell_type": "code",
   "execution_count": 83,
   "id": "7a229cdc-cd30-463b-a557-f05241cb0805",
   "metadata": {},
   "outputs": [
    {
     "name": "stdout",
     "output_type": "stream",
     "text": [
      "[5, 4, 3, 2, 1]\n"
     ]
    }
   ],
   "source": [
    "# creating a list\n",
    "list = [1,2,3,4,5]\n",
    "#reversing the list\n",
    "list.reverse()\n",
    "#printing the list\n",
    "print(list)"
   ]
  },
  {
   "cell_type": "markdown",
   "id": "e4cf04c9-4984-4b4a-8c6e-bb9c9122a9d9",
   "metadata": {},
   "source": [
    "### 23.Python del() Method"
   ]
  },
  {
   "cell_type": "code",
   "execution_count": 86,
   "id": "9682ce0e-efb3-47cc-bbcd-bdd1851b193a",
   "metadata": {},
   "outputs": [
    {
     "name": "stdout",
     "output_type": "stream",
     "text": [
      "[4.445, 3, 5.33, 1.054, 2.5]\n"
     ]
    }
   ],
   "source": [
    "List = [2.3, 4.445, 3, 5.33, 1.054, 2.5]\n",
    "del List[0]\n",
    "print(List)"
   ]
  },
  {
   "cell_type": "markdown",
   "id": "7c10239f-f5fa-4eff-843e-8608753a3a8a",
   "metadata": {},
   "source": [
    "### 24.Python remove() Method"
   ]
  },
  {
   "cell_type": "code",
   "execution_count": 89,
   "id": "c6d8bb70-4cfb-4e40-ac44-015fece6ce92",
   "metadata": {},
   "outputs": [
    {
     "name": "stdout",
     "output_type": "stream",
     "text": [
      "[2.3, 4.445, 5.33, 1.054, 2.5]\n"
     ]
    }
   ],
   "source": [
    "List = [2.3, 4.445, 3, 5.33, 1.054, 2.5]\n",
    "List.remove(3)\n",
    "print(List)"
   ]
  },
  {
   "cell_type": "code",
   "execution_count": null,
   "id": "e4a20869-993b-4d56-baf8-aec7ccf2453b",
   "metadata": {},
   "outputs": [],
   "source": []
  }
 ],
 "metadata": {
  "kernelspec": {
   "display_name": "Python 3 (ipykernel)",
   "language": "python",
   "name": "python3"
  },
  "language_info": {
   "codemirror_mode": {
    "name": "ipython",
    "version": 3
   },
   "file_extension": ".py",
   "mimetype": "text/x-python",
   "name": "python",
   "nbconvert_exporter": "python",
   "pygments_lexer": "ipython3",
   "version": "3.12.4"
  }
 },
 "nbformat": 4,
 "nbformat_minor": 5
}
